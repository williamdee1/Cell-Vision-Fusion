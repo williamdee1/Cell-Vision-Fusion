{
 "cells": [
  {
   "cell_type": "code",
   "execution_count": 1,
   "id": "38b5f0bf",
   "metadata": {},
   "outputs": [],
   "source": [
    "import pandas as pd\n",
    "import numpy as np\n",
    "import os\n",
    "import pickle\n",
    "from xgboost import XGBClassifier\n",
    "from sklearn.ensemble import RandomForestClassifier\n",
    "from sklearn import svm\n",
    "from sklearn.model_selection import GridSearchCV, RandomizedSearchCV\n",
    "from sklearn.metrics import accuracy_score, f1_score, roc_auc_score, precision_score, recall_score, average_precision_score\n",
    "from modules.utils import load_cv\n",
    "from modules.eval_funcs import cv_fold_eval\n",
    "from modules.cleaning import rr_prefix\n",
    "\n",
    "rand_seed = 42\n",
    "moa_dict = {'PI3K' : 0, 'p38 MAPK': 1, 'RAF': 2, 'AURK': 3, 'CDK': 4, 'EGFR': 5, 'ROCK': 6,\n",
    "             'MEK': 7, 'GSK': 8, 'mTOR': 9}"
   ]
  },
  {
   "cell_type": "markdown",
   "id": "c8ab7a9d",
   "metadata": {},
   "source": [
    "# Load IBP Data:"
   ]
  },
  {
   "cell_type": "code",
   "execution_count": 2,
   "id": "d3dd1038",
   "metadata": {},
   "outputs": [
    {
     "name": "stdout",
     "output_type": "stream",
     "text": [
      "(635, 4778)\n"
     ]
    },
    {
     "data": {
      "text/html": [
       "<div>\n",
       "<style scoped>\n",
       "    .dataframe tbody tr th:only-of-type {\n",
       "        vertical-align: middle;\n",
       "    }\n",
       "\n",
       "    .dataframe tbody tr th {\n",
       "        vertical-align: top;\n",
       "    }\n",
       "\n",
       "    .dataframe thead th {\n",
       "        text-align: right;\n",
       "    }\n",
       "</style>\n",
       "<table border=\"1\" class=\"dataframe\">\n",
       "  <thead>\n",
       "    <tr style=\"text-align: right;\">\n",
       "      <th></th>\n",
       "      <th>Metadata_Source</th>\n",
       "      <th>Metadata_Plate</th>\n",
       "      <th>Metadata_Well</th>\n",
       "      <th>Cells_AreaShape_Area</th>\n",
       "      <th>Cells_AreaShape_BoundingBoxArea</th>\n",
       "      <th>Cells_AreaShape_BoundingBoxMaximum_X</th>\n",
       "      <th>Cells_AreaShape_BoundingBoxMaximum_Y</th>\n",
       "      <th>Cells_AreaShape_BoundingBoxMinimum_X</th>\n",
       "      <th>Cells_AreaShape_BoundingBoxMinimum_Y</th>\n",
       "      <th>Cells_AreaShape_Center_X</th>\n",
       "      <th>...</th>\n",
       "      <th>smiles</th>\n",
       "      <th>clinical_phase</th>\n",
       "      <th>moa_src</th>\n",
       "      <th>Metadata_JCP2022</th>\n",
       "      <th>Metadata_InChIKey</th>\n",
       "      <th>Metadata_PlateType</th>\n",
       "      <th>blur_score</th>\n",
       "      <th>sat_score</th>\n",
       "      <th>focus_score</th>\n",
       "      <th>comp_score</th>\n",
       "    </tr>\n",
       "  </thead>\n",
       "  <tbody>\n",
       "    <tr>\n",
       "      <th>0</th>\n",
       "      <td>source_3</td>\n",
       "      <td>JCPQC023</td>\n",
       "      <td>G14</td>\n",
       "      <td>3227.817708</td>\n",
       "      <td>5310.328125</td>\n",
       "      <td>589.21875</td>\n",
       "      <td>541.552083</td>\n",
       "      <td>519.484375</td>\n",
       "      <td>471.942708</td>\n",
       "      <td>553.446757</td>\n",
       "      <td>...</td>\n",
       "      <td>Nc1cc(c(cn1)-c1cc(nc(n1)N1CCOCC1)N1CCOCC1)C(F)...</td>\n",
       "      <td>Phase 3</td>\n",
       "      <td>dr_hub</td>\n",
       "      <td>JCP2022_013856</td>\n",
       "      <td>CWHUFRVAEUJCEF-UHFFFAOYSA-N</td>\n",
       "      <td>TARGET2</td>\n",
       "      <td>0.430742</td>\n",
       "      <td>0.453621</td>\n",
       "      <td>0.517562</td>\n",
       "      <td>1.401925</td>\n",
       "    </tr>\n",
       "    <tr>\n",
       "      <th>1</th>\n",
       "      <td>source_4</td>\n",
       "      <td>BR00121424</td>\n",
       "      <td>G14</td>\n",
       "      <td>4255.300000</td>\n",
       "      <td>7338.300000</td>\n",
       "      <td>572.70000</td>\n",
       "      <td>554.500000</td>\n",
       "      <td>488.420000</td>\n",
       "      <td>470.490000</td>\n",
       "      <td>530.260000</td>\n",
       "      <td>...</td>\n",
       "      <td>Nc1cc(c(cn1)-c1cc(nc(n1)N1CCOCC1)N1CCOCC1)C(F)...</td>\n",
       "      <td>Phase 3</td>\n",
       "      <td>dr_hub</td>\n",
       "      <td>JCP2022_013856</td>\n",
       "      <td>CWHUFRVAEUJCEF-UHFFFAOYSA-N</td>\n",
       "      <td>TARGET2</td>\n",
       "      <td>0.436727</td>\n",
       "      <td>0.144924</td>\n",
       "      <td>0.386009</td>\n",
       "      <td>0.967661</td>\n",
       "    </tr>\n",
       "  </tbody>\n",
       "</table>\n",
       "<p>2 rows × 4778 columns</p>\n",
       "</div>"
      ],
      "text/plain": [
       "  Metadata_Source Metadata_Plate Metadata_Well  Cells_AreaShape_Area  \\\n",
       "0        source_3       JCPQC023           G14           3227.817708   \n",
       "1        source_4     BR00121424           G14           4255.300000   \n",
       "\n",
       "   Cells_AreaShape_BoundingBoxArea  Cells_AreaShape_BoundingBoxMaximum_X  \\\n",
       "0                      5310.328125                             589.21875   \n",
       "1                      7338.300000                             572.70000   \n",
       "\n",
       "   Cells_AreaShape_BoundingBoxMaximum_Y  Cells_AreaShape_BoundingBoxMinimum_X  \\\n",
       "0                            541.552083                            519.484375   \n",
       "1                            554.500000                            488.420000   \n",
       "\n",
       "   Cells_AreaShape_BoundingBoxMinimum_Y  Cells_AreaShape_Center_X  ...  \\\n",
       "0                            471.942708                553.446757  ...   \n",
       "1                            470.490000                530.260000  ...   \n",
       "\n",
       "                                              smiles  clinical_phase  moa_src  \\\n",
       "0  Nc1cc(c(cn1)-c1cc(nc(n1)N1CCOCC1)N1CCOCC1)C(F)...         Phase 3   dr_hub   \n",
       "1  Nc1cc(c(cn1)-c1cc(nc(n1)N1CCOCC1)N1CCOCC1)C(F)...         Phase 3   dr_hub   \n",
       "\n",
       "   Metadata_JCP2022            Metadata_InChIKey  Metadata_PlateType  \\\n",
       "0    JCP2022_013856  CWHUFRVAEUJCEF-UHFFFAOYSA-N             TARGET2   \n",
       "1    JCP2022_013856  CWHUFRVAEUJCEF-UHFFFAOYSA-N             TARGET2   \n",
       "\n",
       "   blur_score  sat_score  focus_score  comp_score  \n",
       "0    0.430742   0.453621     0.517562    1.401925  \n",
       "1    0.436727   0.144924     0.386009    0.967661  \n",
       "\n",
       "[2 rows x 4778 columns]"
      ]
     },
     "execution_count": 2,
     "metadata": {},
     "output_type": "execute_result"
    }
   ],
   "source": [
    "ki_ibp = pd.read_csv('data/ibp/ki_ibp.csv')\n",
    "print(ki_ibp.shape)\n",
    "ki_ibp.head(2)"
   ]
  },
  {
   "cell_type": "markdown",
   "id": "e5625051",
   "metadata": {},
   "source": [
    "# Load CV Fold Data:"
   ]
  },
  {
   "cell_type": "code",
   "execution_count": 4,
   "id": "2bcf78ae",
   "metadata": {},
   "outputs": [],
   "source": [
    "# Load CV split data:\n",
    "cv_splits = 5\n",
    "cv_path = 'data/cv_val_split/'\n",
    "cv_data = load_cv(cv_path, cv_splits, ki_ibp, moa_dict, norm=None)"
   ]
  },
  {
   "cell_type": "code",
   "execution_count": 4,
   "id": "5f8bf228",
   "metadata": {},
   "outputs": [],
   "source": [
    "# Load Spherized and Harmonized Data:\n",
    "pycy_spher = 'output/MAD_Sphere/MADS_PyCyFS.pkl'\n",
    "shap_spher = 'output/MAD_Sphere/MADS_ShapFS.pkl'\n",
    "pycy_harm = 'output/MAD_Harmony/MAD_Harmony_PyCyFS.pkl'\n",
    "shap_harm = 'output/MAD_Harmony/MAD_Harmony_ShapFS.pkl'\n",
    "\n",
    "with open(shap_spher, 'rb') as file:\n",
    "    loaded_data = pickle.load(file)\n",
    "    \n",
    "# Specify the prefix to remove\n",
    "prefix_to_remove = 'sph_'\n",
    "loaded_data = rr_prefix(loaded_data, prefix_to_remove)"
   ]
  },
  {
   "cell_type": "code",
   "execution_count": 8,
   "id": "6be61f60",
   "metadata": {},
   "outputs": [],
   "source": [
    "shap_spher = 'output/Corrected/MADS_ShapFS.pkl'\n",
    "\n",
    "with open(shap_spher, 'rb') as file:\n",
    "    loaded_data = pickle.load(file)\n",
    "\n",
    "    # Specify the prefix to remove\n",
    "prefix_to_remove = 'sph_'\n",
    "loaded_data = rr_prefix(loaded_data, prefix_to_remove)"
   ]
  },
  {
   "cell_type": "code",
   "execution_count": 8,
   "id": "2a9dbf53",
   "metadata": {},
   "outputs": [
    {
     "data": {
      "text/plain": [
       "dict_keys(['X_train', 'y_train', 'train_meta', 'X_test', 'y_test', 'test_meta'])"
      ]
     },
     "execution_count": 8,
     "metadata": {},
     "output_type": "execute_result"
    }
   ],
   "source": [
    "loaded_data[0].keys()"
   ]
  },
  {
   "cell_type": "markdown",
   "id": "25921d79",
   "metadata": {},
   "source": [
    "# Load Feature Selection Data:"
   ]
  },
  {
   "cell_type": "code",
   "execution_count": 7,
   "id": "7a9104ec",
   "metadata": {},
   "outputs": [],
   "source": [
    "cv_results = pd.read_csv('output/feat_sel/shap_fs_res.csv')"
   ]
  },
  {
   "cell_type": "markdown",
   "id": "d18837c9",
   "metadata": {},
   "source": [
    "# Random Forest:"
   ]
  },
  {
   "cell_type": "markdown",
   "id": "c5a0b17e",
   "metadata": {},
   "source": [
    "## Baseline Model:"
   ]
  },
  {
   "cell_type": "code",
   "execution_count": 4,
   "id": "46d122d7",
   "metadata": {
    "scrolled": true
   },
   "outputs": [],
   "source": [
    "rf_clf = RandomForestClassifier(random_state=rand_seed)"
   ]
  },
  {
   "cell_type": "markdown",
   "id": "e90a00bd",
   "metadata": {},
   "source": [
    "### Minmax Norm, no Feature Selection:"
   ]
  },
  {
   "cell_type": "code",
   "execution_count": 5,
   "id": "42ab1178",
   "metadata": {},
   "outputs": [
    {
     "name": "stdout",
     "output_type": "stream",
     "text": [
      "Well-level Results: 52.67% Accuracy | 47.40% F1 Score\n",
      "Compound-level Results: 70.00% Accuracy | 56.90% F1 Score\n",
      "Well-level Results: 32.12% Accuracy | 30.61% F1 Score\n",
      "Compound-level Results: 36.84% Accuracy | 29.19% F1 Score\n",
      "Well-level Results: 45.13% Accuracy | 44.56% F1 Score\n",
      "Compound-level Results: 36.84% Accuracy | 37.67% F1 Score\n",
      "Well-level Results: 38.89% Accuracy | 38.33% F1 Score\n",
      "Compound-level Results: 42.11% Accuracy | 40.83% F1 Score\n",
      "Well-level Results: 28.91% Accuracy | 25.74% F1 Score\n",
      "Compound-level Results: 26.32% Accuracy | 22.86% F1 Score\n",
      "---------- Cross-validated Mean Metrics ----------\n",
      "Well-Level: 39.54% Accuracy (+/- 8.63%) | 37.33% F1 Score (+/- 8.18%) \n",
      "Compound-Level: 42.42% Accuracy (+/- 14.71%) | 37.49% F1 Score (+/- 11.59%) \n"
     ]
    }
   ],
   "source": [
    "cv_fold_eval(rf_clf, cv_data)"
   ]
  },
  {
   "cell_type": "markdown",
   "id": "b6f4f0a8",
   "metadata": {},
   "source": [
    "### MADS + Shapley FS:"
   ]
  },
  {
   "cell_type": "code",
   "execution_count": 9,
   "id": "3a9531ec",
   "metadata": {},
   "outputs": [
    {
     "name": "stdout",
     "output_type": "stream",
     "text": [
      "Well-level Results: 61.74% Accuracy | 59.62% F1 Score\n",
      "Compound-level Results: 80.00% Accuracy | 79.00% F1 Score\n",
      "Well-level Results: 39.83% Accuracy | 38.66% F1 Score\n",
      "Compound-level Results: 50.00% Accuracy | 38.00% F1 Score\n",
      "Well-level Results: 48.51% Accuracy | 52.24% F1 Score\n",
      "Compound-level Results: 61.11% Accuracy | 59.83% F1 Score\n",
      "Well-level Results: 48.28% Accuracy | 42.31% F1 Score\n",
      "Compound-level Results: 50.00% Accuracy | 41.05% F1 Score\n",
      "Well-level Results: 41.27% Accuracy | 39.16% F1 Score\n",
      "Compound-level Results: 42.11% Accuracy | 35.67% F1 Score\n",
      "---------- Cross-validated Mean Metrics ----------\n",
      "Well-Level: 47.93% Accuracy (+/- 7.76%) | 46.40% F1 Score (+/- 8.22%) \n",
      "Compound-Level: 56.64% Accuracy (+/- 13.15%) | 50.71% F1 Score (+/- 16.52%) \n"
     ]
    }
   ],
   "source": [
    "cv_fold_eval(rf_clf, loaded_data)"
   ]
  },
  {
   "cell_type": "markdown",
   "id": "5cb648a5",
   "metadata": {},
   "source": [
    "### MADS + Pycy FS:"
   ]
  },
  {
   "cell_type": "code",
   "execution_count": 11,
   "id": "9467d8ad",
   "metadata": {},
   "outputs": [
    {
     "name": "stdout",
     "output_type": "stream",
     "text": [
      "Well-level Results: 57.39% Accuracy | 51.95% F1 Score\n",
      "Compound-level Results: 80.00% Accuracy | 77.05% F1 Score\n",
      "Well-level Results: 34.75% Accuracy | 32.42% F1 Score\n",
      "Compound-level Results: 38.89% Accuracy | 31.50% F1 Score\n",
      "Well-level Results: 49.50% Accuracy | 51.53% F1 Score\n",
      "Compound-level Results: 61.11% Accuracy | 61.50% F1 Score\n",
      "Well-level Results: 40.52% Accuracy | 34.11% F1 Score\n",
      "Compound-level Results: 55.56% Accuracy | 44.38% F1 Score\n",
      "Well-level Results: 34.13% Accuracy | 29.27% F1 Score\n",
      "Compound-level Results: 42.11% Accuracy | 33.10% F1 Score\n",
      "---------- Cross-validated Mean Metrics ----------\n",
      "Well-Level: 43.26% Accuracy (+/- 8.97%) | 39.86% F1 Score (+/- 9.83%) \n",
      "Compound-Level: 55.53% Accuracy (+/- 14.75%) | 49.50% F1 Score (+/- 17.45%) \n"
     ]
    }
   ],
   "source": [
    "cv_fold_eval(rf_clf, loaded_data)"
   ]
  },
  {
   "cell_type": "markdown",
   "id": "9e18c8ff",
   "metadata": {},
   "source": [
    "## MADH + Shap FS:"
   ]
  },
  {
   "cell_type": "code",
   "execution_count": 13,
   "id": "70f106f9",
   "metadata": {},
   "outputs": [
    {
     "name": "stdout",
     "output_type": "stream",
     "text": [
      "Well-level Results: 57.39% Accuracy | 58.37% F1 Score\n",
      "Compound-level Results: 70.00% Accuracy | 65.71% F1 Score\n",
      "Well-level Results: 37.29% Accuracy | 34.49% F1 Score\n",
      "Compound-level Results: 50.00% Accuracy | 45.86% F1 Score\n",
      "Well-level Results: 51.49% Accuracy | 54.70% F1 Score\n",
      "Compound-level Results: 55.56% Accuracy | 51.38% F1 Score\n",
      "Well-level Results: 47.41% Accuracy | 46.75% F1 Score\n",
      "Compound-level Results: 55.56% Accuracy | 51.19% F1 Score\n",
      "Well-level Results: 28.57% Accuracy | 25.96% F1 Score\n",
      "Compound-level Results: 36.84% Accuracy | 29.05% F1 Score\n",
      "---------- Cross-validated Mean Metrics ----------\n",
      "Well-Level: 44.43% Accuracy (+/- 10.29%) | 44.05% F1 Score (+/- 12.20%) \n",
      "Compound-Level: 53.59% Accuracy (+/- 10.68%) | 48.64% F1 Score (+/- 11.81%) \n"
     ]
    }
   ],
   "source": [
    "cv_fold_eval(rf_clf, loaded_data)"
   ]
  },
  {
   "cell_type": "markdown",
   "id": "b1246449",
   "metadata": {},
   "source": [
    "### MADH + PyCy FS"
   ]
  },
  {
   "cell_type": "code",
   "execution_count": 15,
   "id": "250c2bb7",
   "metadata": {},
   "outputs": [
    {
     "name": "stdout",
     "output_type": "stream",
     "text": [
      "Well-level Results: 43.48% Accuracy | 39.79% F1 Score\n",
      "Compound-level Results: 50.00% Accuracy | 38.64% F1 Score\n",
      "Well-level Results: 32.20% Accuracy | 22.69% F1 Score\n",
      "Compound-level Results: 44.44% Accuracy | 31.08% F1 Score\n",
      "Well-level Results: 40.59% Accuracy | 36.49% F1 Score\n",
      "Compound-level Results: 55.56% Accuracy | 51.02% F1 Score\n",
      "Well-level Results: 31.03% Accuracy | 30.57% F1 Score\n",
      "Compound-level Results: 38.89% Accuracy | 31.27% F1 Score\n",
      "Well-level Results: 24.60% Accuracy | 19.65% F1 Score\n",
      "Compound-level Results: 36.84% Accuracy | 27.50% F1 Score\n",
      "---------- Cross-validated Mean Metrics ----------\n",
      "Well-Level: 34.38% Accuracy (+/- 6.83%) | 29.84% F1 Score (+/- 7.73%) \n",
      "Compound-Level: 45.15% Accuracy (+/- 6.94%) | 35.90% F1 Score (+/- 8.38%) \n"
     ]
    }
   ],
   "source": [
    "cv_fold_eval(rf_clf, loaded_data)"
   ]
  },
  {
   "cell_type": "markdown",
   "id": "3ae6d9de",
   "metadata": {},
   "source": [
    "## Random Search:"
   ]
  },
  {
   "cell_type": "code",
   "execution_count": 24,
   "id": "b03d0e2c",
   "metadata": {},
   "outputs": [],
   "source": [
    "# Number of trees in random forest\n",
    "n_estimators = [int(x) for x in np.linspace(start = 16, stop = 1024, num = 6)]\n",
    "# Maximum number of levels in tree\n",
    "max_depth = [int(x) for x in np.linspace(2, 64, num = 8)]\n",
    "# Minimum number of samples required to split a node\n",
    "min_samples_split = [2, 6, 8, 12]\n",
    "# Minimum number of samples required at each leaf node\n",
    "min_samples_leaf = [1, 2, 4]\n",
    "# Method of selecting samples for training each tree\n",
    "bootstrap = [True, False]"
   ]
  },
  {
   "cell_type": "code",
   "execution_count": 25,
   "id": "9049ece0",
   "metadata": {},
   "outputs": [
    {
     "name": "stdout",
     "output_type": "stream",
     "text": [
      "{'n_estimators': [16, 217, 419, 620, 822, 1024], 'max_depth': [2, 10, 19, 28, 37, 46, 55, 64], 'min_samples_split': [2, 6, 8, 12], 'min_samples_leaf': [1, 2, 4], 'bootstrap': [True, False]}\n"
     ]
    }
   ],
   "source": [
    "# Create the random grid\n",
    "random_grid = {'n_estimators': n_estimators,\n",
    "               'max_depth': max_depth,\n",
    "               'min_samples_split': min_samples_split,\n",
    "               'min_samples_leaf': min_samples_leaf,\n",
    "               'bootstrap': bootstrap}\n",
    "print(random_grid)"
   ]
  },
  {
   "cell_type": "code",
   "execution_count": 26,
   "id": "55a875e0",
   "metadata": {},
   "outputs": [
    {
     "name": "stdout",
     "output_type": "stream",
     "text": [
      "Fitting 5 folds for each of 25 candidates, totalling 125 fits\n",
      "Best CV Accuracy:  0.6376577840112201\n",
      "Best Parameters:  {'n_estimators': 822, 'min_samples_split': 6, 'min_samples_leaf': 2, 'max_depth': 19, 'bootstrap': False}\n",
      "--------------------------------------------\n",
      "Fitting 5 folds for each of 25 candidates, totalling 125 fits\n",
      "Best CV Accuracy:  0.6546344959388437\n",
      "Best Parameters:  {'n_estimators': 620, 'min_samples_split': 2, 'min_samples_leaf': 1, 'max_depth': 46, 'bootstrap': False}\n",
      "--------------------------------------------\n",
      "Fitting 5 folds for each of 25 candidates, totalling 125 fits\n",
      "Best CV Accuracy:  0.6778947368421052\n",
      "Best Parameters:  {'n_estimators': 822, 'min_samples_split': 2, 'min_samples_leaf': 1, 'max_depth': 28, 'bootstrap': False}\n",
      "--------------------------------------------\n",
      "Fitting 5 folds for each of 25 candidates, totalling 125 fits\n",
      "Best CV Accuracy:  0.6434782608695653\n",
      "Best Parameters:  {'n_estimators': 822, 'min_samples_split': 2, 'min_samples_leaf': 1, 'max_depth': 28, 'bootstrap': True}\n",
      "--------------------------------------------\n",
      "Fitting 5 folds for each of 25 candidates, totalling 125 fits\n",
      "Best CV Accuracy:  0.6777777777777778\n",
      "Best Parameters:  {'n_estimators': 419, 'min_samples_split': 2, 'min_samples_leaf': 1, 'max_depth': 10, 'bootstrap': False}\n",
      "--------------------------------------------\n"
     ]
    }
   ],
   "source": [
    "for cv in range(cv_splits):\n",
    "    # Define model and search:\n",
    "    rand_search_rf = RandomForestClassifier(random_state = rand_seed) \n",
    "    \n",
    "    # Search across 100 different combinations, and use all available cores\n",
    "    rf_random = RandomizedSearchCV(estimator = rand_search_rf, param_distributions = random_grid, \n",
    "                               n_iter = 25, verbose=1, random_state=rand_seed, n_jobs = -1)\n",
    "    \n",
    "    # Fit Random Search Model:\n",
    "    rf_random.fit(loaded_data[cv]['X_train'], loaded_data[cv]['y_train'])\n",
    "    \n",
    "    print(\"Best CV Accuracy: \", rf_random.best_score_)\n",
    "    print(\"Best Parameters: \", rf_random.best_params_)\n",
    "    print(\"--------------------------------------------\")"
   ]
  },
  {
   "cell_type": "markdown",
   "id": "f1e85810",
   "metadata": {},
   "source": [
    "### Re-Fit Model with Hyp. Tuned Params:"
   ]
  },
  {
   "cell_type": "code",
   "execution_count": 7,
   "id": "ad3388bc",
   "metadata": {},
   "outputs": [],
   "source": [
    "hyp_rf_clf = RandomForestClassifier(n_estimators=474, min_samples_split=2,\n",
    "                                    min_samples_leaf=1, max_depth=55, bootstrap=False,\n",
    "                                    random_state=rand_seed)"
   ]
  },
  {
   "cell_type": "markdown",
   "id": "b2cc75ba",
   "metadata": {},
   "source": [
    "### Minmax + No FS:"
   ]
  },
  {
   "cell_type": "code",
   "execution_count": 8,
   "id": "4a8bc58a",
   "metadata": {},
   "outputs": [
    {
     "name": "stdout",
     "output_type": "stream",
     "text": [
      "Well-level Results: 55.73% Accuracy | 49.11% F1 Score\n",
      "Compound-level Results: 70.00% Accuracy | 56.90% F1 Score\n",
      "Well-level Results: 32.85% Accuracy | 29.45% F1 Score\n",
      "Compound-level Results: 52.63% Accuracy | 37.38% F1 Score\n",
      "Well-level Results: 45.13% Accuracy | 46.24% F1 Score\n",
      "Compound-level Results: 36.84% Accuracy | 37.12% F1 Score\n",
      "Well-level Results: 38.89% Accuracy | 38.53% F1 Score\n",
      "Compound-level Results: 57.89% Accuracy | 53.71% F1 Score\n",
      "Well-level Results: 29.69% Accuracy | 28.72% F1 Score\n",
      "Compound-level Results: 26.32% Accuracy | 24.05% F1 Score\n",
      "---------- Cross-validated Mean Metrics ----------\n",
      "Well-Level: 40.46% Accuracy (+/- 9.29%) | 38.41% F1 Score (+/- 8.37%) \n",
      "Compound-Level: 48.74% Accuracy (+/- 15.46%) | 41.83% F1 Score (+/- 12.06%) \n"
     ]
    }
   ],
   "source": [
    "cv_fold_eval(hyp_rf_clf, cv_data)"
   ]
  },
  {
   "cell_type": "markdown",
   "id": "9093ea65",
   "metadata": {},
   "source": [
    "### MADS + Shap FS:"
   ]
  },
  {
   "cell_type": "code",
   "execution_count": 27,
   "id": "cdfe4f63",
   "metadata": {},
   "outputs": [],
   "source": [
    "hyp_rf_clf = RandomForestClassifier(n_estimators=822, min_samples_split=2,\n",
    "                                    min_samples_leaf=1, max_depth=28, bootstrap=False,\n",
    "                                    random_state=rand_seed)"
   ]
  },
  {
   "cell_type": "code",
   "execution_count": 28,
   "id": "04f4e4e8",
   "metadata": {},
   "outputs": [
    {
     "name": "stdout",
     "output_type": "stream",
     "text": [
      "Well-level Results: 66.96% Accuracy | 65.65% F1 Score\n",
      "Compound-level Results: 85.00% Accuracy | 84.00% F1 Score\n",
      "Well-level Results: 40.68% Accuracy | 38.74% F1 Score\n",
      "Compound-level Results: 61.11% Accuracy | 58.67% F1 Score\n",
      "Well-level Results: 50.50% Accuracy | 54.21% F1 Score\n",
      "Compound-level Results: 55.56% Accuracy | 51.50% F1 Score\n",
      "Well-level Results: 47.41% Accuracy | 44.79% F1 Score\n",
      "Compound-level Results: 50.00% Accuracy | 41.05% F1 Score\n",
      "Well-level Results: 42.86% Accuracy | 40.27% F1 Score\n",
      "Compound-level Results: 36.84% Accuracy | 32.86% F1 Score\n",
      "---------- Cross-validated Mean Metrics ----------\n",
      "Well-Level: 49.68% Accuracy (+/- 9.29%) | 48.73% F1 Score (+/- 10.04%) \n",
      "Compound-Level: 57.70% Accuracy (+/- 15.85%) | 53.61% F1 Score (+/- 17.56%) \n"
     ]
    }
   ],
   "source": [
    "cv_fold_eval(hyp_rf_clf, loaded_data)"
   ]
  },
  {
   "cell_type": "markdown",
   "id": "92a91377",
   "metadata": {},
   "source": [
    "## Apply Feature Selection:"
   ]
  },
  {
   "cell_type": "code",
   "execution_count": 40,
   "id": "5483d794",
   "metadata": {},
   "outputs": [
    {
     "name": "stdout",
     "output_type": "stream",
     "text": [
      "Well-level Results: 58.02% Accuracy | 55.10% F1 Score\n",
      "Compound-level Results: 75.00% Accuracy | 68.33% F1 Score\n",
      "Well-level Results: 38.69% Accuracy | 37.48% F1 Score\n",
      "Compound-level Results: 47.37% Accuracy | 43.86% F1 Score\n",
      "Well-level Results: 46.02% Accuracy | 47.81% F1 Score\n",
      "Compound-level Results: 47.37% Accuracy | 46.02% F1 Score\n",
      "Well-level Results: 49.21% Accuracy | 46.55% F1 Score\n",
      "Compound-level Results: 68.42% Accuracy | 60.50% F1 Score\n",
      "Well-level Results: 34.38% Accuracy | 29.66% F1 Score\n",
      "Compound-level Results: 36.84% Accuracy | 32.50% F1 Score\n",
      "---------- Cross-validated Mean Metrics ----------\n",
      "Well-Level: 45.26% Accuracy (+/- 8.25%) | 43.32% F1 Score (+/- 8.83%) \n",
      "Compound-Level: 55.00% Accuracy (+/- 14.33%) | 50.24% F1 Score (+/- 12.70%) \n"
     ]
    }
   ],
   "source": [
    "n_feats = 150\n",
    "top_feats = cv_results['features'][0:n_feats].tolist()\n",
    "cv_fold_eval(hyp_rf_clf, cv_data, top_feats)"
   ]
  },
  {
   "cell_type": "markdown",
   "id": "77be3109",
   "metadata": {},
   "source": [
    "# XGBoost:"
   ]
  },
  {
   "cell_type": "markdown",
   "id": "9a040cff",
   "metadata": {},
   "source": [
    "## Baseline:"
   ]
  },
  {
   "cell_type": "code",
   "execution_count": 9,
   "id": "b494d7ea",
   "metadata": {},
   "outputs": [],
   "source": [
    "xgb_model = XGBClassifier()"
   ]
  },
  {
   "cell_type": "markdown",
   "id": "b7c6b4c4",
   "metadata": {},
   "source": [
    "### Minmax and no FS:"
   ]
  },
  {
   "cell_type": "code",
   "execution_count": 10,
   "id": "45df168b",
   "metadata": {},
   "outputs": [
    {
     "name": "stdout",
     "output_type": "stream",
     "text": [
      "Well-level Results: 55.73% Accuracy | 53.03% F1 Score\n",
      "Compound-level Results: 60.00% Accuracy | 48.90% F1 Score\n",
      "Well-level Results: 36.50% Accuracy | 32.90% F1 Score\n",
      "Compound-level Results: 42.11% Accuracy | 32.67% F1 Score\n",
      "Well-level Results: 46.02% Accuracy | 47.07% F1 Score\n",
      "Compound-level Results: 52.63% Accuracy | 47.17% F1 Score\n",
      "Well-level Results: 44.44% Accuracy | 42.82% F1 Score\n",
      "Compound-level Results: 68.42% Accuracy | 60.38% F1 Score\n",
      "Well-level Results: 34.38% Accuracy | 32.43% F1 Score\n",
      "Compound-level Results: 42.11% Accuracy | 35.71% F1 Score\n",
      "---------- Cross-validated Mean Metrics ----------\n",
      "Well-Level: 43.41% Accuracy (+/- 7.60%) | 41.65% F1 Score (+/- 8.02%) \n",
      "Compound-Level: 53.05% Accuracy (+/- 10.24%) | 44.97% F1 Score (+/- 9.95%) \n"
     ]
    }
   ],
   "source": [
    "cv_fold_eval(xgb_model, cv_data)"
   ]
  },
  {
   "cell_type": "markdown",
   "id": "f0f98f06",
   "metadata": {},
   "source": [
    "## Random Search:"
   ]
  },
  {
   "cell_type": "code",
   "execution_count": 32,
   "id": "71373b03",
   "metadata": {},
   "outputs": [],
   "source": [
    "rs_params = {'max_depth': [3, 5, 6, 10, 15, 20],\n",
    "           'learning_rate': [0.01, 0.1, 0.2, 0.3],\n",
    "           'subsample': np.arange(0.5, 1.0, 0.1),\n",
    "           'colsample_bytree': np.arange(0.4, 1.0, 0.1),\n",
    "           'colsample_bylevel': np.arange(0.4, 1.0, 0.1),\n",
    "           'n_estimators': np.arange(50, 1000, 200)}"
   ]
  },
  {
   "cell_type": "code",
   "execution_count": 12,
   "id": "2567e2b1",
   "metadata": {},
   "outputs": [
    {
     "data": {
      "text/plain": [
       "{'max_depth': [3, 5, 6, 10, 15, 20],\n",
       " 'learning_rate': [0.01, 0.1, 0.2, 0.3],\n",
       " 'subsample': array([0.5, 0.6, 0.7, 0.8, 0.9]),\n",
       " 'colsample_bytree': array([0.4, 0.5, 0.6, 0.7, 0.8, 0.9]),\n",
       " 'colsample_bylevel': array([0.4, 0.5, 0.6, 0.7, 0.8, 0.9]),\n",
       " 'n_estimators': array([ 50, 250, 450, 650, 850])}"
      ]
     },
     "execution_count": 12,
     "metadata": {},
     "output_type": "execute_result"
    }
   ],
   "source": [
    "rs_params"
   ]
  },
  {
   "cell_type": "code",
   "execution_count": 34,
   "id": "1a394c19",
   "metadata": {
    "scrolled": false
   },
   "outputs": [
    {
     "name": "stdout",
     "output_type": "stream",
     "text": [
      "Fitting 5 folds for each of 50 candidates, totalling 250 fits\n",
      "Best CV Accuracy:  0.652805049088359\n",
      "Best Parameters:  {'subsample': 0.6, 'n_estimators': 650, 'max_depth': 6, 'learning_rate': 0.1, 'colsample_bytree': 0.4, 'colsample_bylevel': 0.7}\n",
      "--------------------------------------------\n",
      "Fitting 5 folds for each of 50 candidates, totalling 250 fits\n",
      "Best CV Accuracy:  0.6415671285236503\n",
      "Best Parameters:  {'subsample': 0.6, 'n_estimators': 50, 'max_depth': 15, 'learning_rate': 0.1, 'colsample_bytree': 0.6, 'colsample_bylevel': 0.5}\n",
      "--------------------------------------------\n",
      "Fitting 5 folds for each of 50 candidates, totalling 250 fits\n",
      "Best CV Accuracy:  0.68\n",
      "Best Parameters:  {'subsample': 0.5, 'n_estimators': 450, 'max_depth': 15, 'learning_rate': 0.1, 'colsample_bytree': 0.5, 'colsample_bylevel': 0.4}\n",
      "--------------------------------------------\n",
      "Fitting 5 folds for each of 50 candidates, totalling 250 fits\n",
      "Best CV Accuracy:  0.6260869565217392\n",
      "Best Parameters:  {'subsample': 0.5, 'n_estimators': 650, 'max_depth': 20, 'learning_rate': 0.1, 'colsample_bytree': 0.4, 'colsample_bylevel': 0.5}\n",
      "--------------------------------------------\n",
      "Fitting 5 folds for each of 50 candidates, totalling 250 fits\n",
      "Best CV Accuracy:  0.6799999999999999\n",
      "Best Parameters:  {'subsample': 0.5, 'n_estimators': 250, 'max_depth': 6, 'learning_rate': 0.2, 'colsample_bytree': 0.8999999999999999, 'colsample_bylevel': 0.6}\n",
      "--------------------------------------------\n"
     ]
    }
   ],
   "source": [
    "for cv in range(cv_splits):\n",
    "    # Define model and search:\n",
    "    rand_search_XGB = XGBClassifier(random_state=rand_seed) \n",
    "    \n",
    "    # Search across 100 different combinations, and use all available cores\n",
    "    xgb_random = RandomizedSearchCV(estimator=rand_search_XGB, param_distributions=rs_params, \n",
    "                               n_iter=50, verbose=1, random_state=rand_seed)\n",
    "    \n",
    "    # Fit Random Search Model:\n",
    "    xgb_random.fit(loaded_data[cv]['X_train'], loaded_data[cv]['y_train'])\n",
    "    \n",
    "    print(\"Best CV Accuracy: \", xgb_random.best_score_)\n",
    "    print(\"Best Parameters: \", xgb_random.best_params_)\n",
    "    print(\"--------------------------------------------\")"
   ]
  },
  {
   "cell_type": "markdown",
   "id": "15f63590",
   "metadata": {},
   "source": [
    "### Re-Fit Model with Hyp. Tuned Params:"
   ]
  },
  {
   "cell_type": "code",
   "execution_count": 6,
   "id": "cc983fdb",
   "metadata": {},
   "outputs": [],
   "source": [
    "xgb_model = XGBClassifier(n_estimators = 400, subsample=0.5, colsample_bytree=0.8, learning_rate = 0.05, \n",
    "                          max_depth=15, colsample_bylevel=0.4)"
   ]
  },
  {
   "cell_type": "code",
   "execution_count": 36,
   "id": "d6c7ae3e",
   "metadata": {},
   "outputs": [
    {
     "name": "stdout",
     "output_type": "stream",
     "text": [
      "Well-level Results: 56.49% Accuracy | 54.62% F1 Score\n",
      "Compound-level Results: 70.00% Accuracy | 56.90% F1 Score\n",
      "Well-level Results: 40.15% Accuracy | 36.12% F1 Score\n",
      "Compound-level Results: 42.11% Accuracy | 32.11% F1 Score\n",
      "Well-level Results: 46.02% Accuracy | 45.59% F1 Score\n",
      "Compound-level Results: 47.37% Accuracy | 46.67% F1 Score\n",
      "Well-level Results: 41.27% Accuracy | 38.66% F1 Score\n",
      "Compound-level Results: 63.16% Accuracy | 56.00% F1 Score\n",
      "Well-level Results: 36.72% Accuracy | 36.75% F1 Score\n",
      "Compound-level Results: 42.11% Accuracy | 44.00% F1 Score\n",
      "---------- Cross-validated Mean Metrics ----------\n",
      "Well-Level: 44.13% Accuracy (+/- 6.86%) | 42.35% F1 Score (+/- 7.00%) \n",
      "Compound-Level: 52.95% Accuracy (+/- 11.50%) | 47.14% F1 Score (+/- 9.05%) \n"
     ]
    }
   ],
   "source": [
    "cv_fold_eval(xgb_model, cv_data)"
   ]
  },
  {
   "cell_type": "markdown",
   "id": "37cde826",
   "metadata": {},
   "source": [
    "### MADS + Shap:"
   ]
  },
  {
   "cell_type": "code",
   "execution_count": 7,
   "id": "f0f2ed7b",
   "metadata": {},
   "outputs": [
    {
     "name": "stdout",
     "output_type": "stream",
     "text": [
      "Well-level Results: 65.22% Accuracy | 63.95% F1 Score\n",
      "Compound-level Results: 85.00% Accuracy | 84.00% F1 Score\n",
      "Well-level Results: 45.76% Accuracy | 44.20% F1 Score\n",
      "Compound-level Results: 55.56% Accuracy | 47.05% F1 Score\n",
      "Well-level Results: 49.50% Accuracy | 53.51% F1 Score\n",
      "Compound-level Results: 77.78% Accuracy | 80.00% F1 Score\n",
      "Well-level Results: 48.28% Accuracy | 46.76% F1 Score\n",
      "Compound-level Results: 61.11% Accuracy | 54.67% F1 Score\n",
      "Well-level Results: 44.44% Accuracy | 40.12% F1 Score\n",
      "Compound-level Results: 47.37% Accuracy | 39.71% F1 Score\n",
      "---------- Cross-validated Mean Metrics ----------\n",
      "Well-Level: 50.64% Accuracy (+/- 7.50%) | 49.71% F1 Score (+/- 8.35%) \n",
      "Compound-Level: 65.36% Accuracy (+/- 13.98%) | 61.09% F1 Score (+/- 17.76%) \n"
     ]
    }
   ],
   "source": [
    "fold_dict = cv_fold_eval(xgb_model, loaded_data)"
   ]
  },
  {
   "cell_type": "markdown",
   "id": "9480719b",
   "metadata": {},
   "source": [
    "- 96 compounds:"
   ]
  },
  {
   "cell_type": "code",
   "execution_count": 9,
   "id": "2a10d0d5",
   "metadata": {},
   "outputs": [
    {
     "name": "stdout",
     "output_type": "stream",
     "text": [
      "Well-level Results: 61.83% Accuracy | 61.36% F1 Score\n",
      "Compound-level Results: 80.00% Accuracy | 76.33% F1 Score\n",
      "Well-level Results: 45.99% Accuracy | 40.61% F1 Score\n",
      "Compound-level Results: 52.63% Accuracy | 50.33% F1 Score\n",
      "Well-level Results: 51.33% Accuracy | 52.32% F1 Score\n",
      "Compound-level Results: 63.16% Accuracy | 54.88% F1 Score\n",
      "Well-level Results: 49.21% Accuracy | 47.18% F1 Score\n",
      "Compound-level Results: 57.89% Accuracy | 54.57% F1 Score\n",
      "Well-level Results: 41.41% Accuracy | 37.70% F1 Score\n",
      "Compound-level Results: 42.11% Accuracy | 33.90% F1 Score\n",
      "---------- Cross-validated Mean Metrics ----------\n",
      "Well-Level: 49.95% Accuracy (+/- 6.82%) | 47.83% F1 Score (+/- 8.47%) \n",
      "Compound-Level: 59.16% Accuracy (+/- 12.53%) | 54.00% F1 Score (+/- 13.54%) \n"
     ]
    }
   ],
   "source": [
    "fold_dict = cv_fold_eval(xgb_model, loaded_data)"
   ]
  },
  {
   "cell_type": "markdown",
   "id": "2a14d614",
   "metadata": {},
   "source": [
    "- Above shows crude statistics calculated as mean values across folds, below are the precise metrics, calculated when all predictions across test sets are combined before metrics are calculated:"
   ]
  },
  {
   "cell_type": "code",
   "execution_count": 25,
   "id": "c6b418d2",
   "metadata": {},
   "outputs": [
    {
     "name": "stdout",
     "output_type": "stream",
     "text": [
      "Accuracy: 65.59%\n",
      "F1 Score: 63.99%\n",
      "Precision: 66.12%\n",
      "Recall: 64.32%\n",
      "ROC AUC: 89.02%\n",
      "AUPR: 68.61%\n"
     ]
    }
   ],
   "source": [
    "# Concatenate the arrays within the results lists:\n",
    "pred_arr = fold_dict['pred_arr']\n",
    "act_arr = fold_dict['act_arr']\n",
    "proba_arr = np.vstack(fold_dict['proba_arr'])\n",
    "\n",
    "# Calculate performance metrics at a compound-level:\n",
    "acc = accuracy_score(act_arr, pred_arr)\n",
    "f1 = f1_score(act_arr, pred_arr, average='macro')\n",
    "precision = precision_score(act_arr, pred_arr, average='macro', zero_division=0)\n",
    "recall = recall_score(act_arr, pred_arr, average='macro')\n",
    "roc_auc = roc_auc_score(act_arr, proba_arr, average='macro', multi_class='ovr')\n",
    "\n",
    "# Calculate AUPR for each class\n",
    "aupr_scores = [average_precision_score(act_arr == class_index, proba_arr[:, class_index]\n",
    "                                       ) for class_index in range(proba_arr.shape[1])]\n",
    "mean_aupr = np.mean(aupr_scores)\n",
    "\n",
    "# Print metrics:\n",
    "print('Accuracy: {:.2f}%'.format(acc*100))\n",
    "print('F1 Score: {:.2f}%'.format(f1*100))\n",
    "print('Precision: {:.2f}%'.format(precision * 100))\n",
    "print('Recall: {:.2f}%'.format(recall * 100))\n",
    "print('ROC AUC: {:.2f}%'.format(roc_auc * 100))\n",
    "print('AUPR: {:.2f}%'.format(mean_aupr * 100))"
   ]
  },
  {
   "cell_type": "markdown",
   "id": "4865b932",
   "metadata": {},
   "source": [
    "### MADS + Pycy:"
   ]
  },
  {
   "cell_type": "code",
   "execution_count": 6,
   "id": "d2654c78",
   "metadata": {},
   "outputs": [
    {
     "name": "stdout",
     "output_type": "stream",
     "text": [
      "Well-level Results: 67.83% Accuracy | 67.63% F1 Score\n",
      "Compound-level Results: 85.00% Accuracy | 84.67% F1 Score\n",
      "Well-level Results: 44.07% Accuracy | 42.60% F1 Score\n",
      "Compound-level Results: 55.56% Accuracy | 53.00% F1 Score\n",
      "Well-level Results: 54.46% Accuracy | 57.03% F1 Score\n",
      "Compound-level Results: 66.67% Accuracy | 70.55% F1 Score\n",
      "Well-level Results: 45.69% Accuracy | 45.23% F1 Score\n",
      "Compound-level Results: 66.67% Accuracy | 60.05% F1 Score\n",
      "Well-level Results: 38.89% Accuracy | 33.37% F1 Score\n",
      "Compound-level Results: 47.37% Accuracy | 35.78% F1 Score\n",
      "---------- Cross-validated Mean Metrics ----------\n",
      "Well-Level: 50.19% Accuracy (+/- 10.15%) | 49.17% F1 Score (+/- 11.92%) \n",
      "Compound-Level: 64.25% Accuracy (+/- 12.67%) | 60.81% F1 Score (+/- 16.44%) \n"
     ]
    }
   ],
   "source": [
    "cv_fold_eval(xgb_model, loaded_data)"
   ]
  },
  {
   "cell_type": "markdown",
   "id": "14f14275",
   "metadata": {},
   "source": [
    "### MADH + Shap:"
   ]
  },
  {
   "cell_type": "code",
   "execution_count": 17,
   "id": "075642f6",
   "metadata": {},
   "outputs": [],
   "source": [
    "xgb_model = XGBClassifier(n_estimators = 650, subsample=0.7, colsample_bytree=0.8, \n",
    "                          learning_rate = 0.1, max_depth=15, colsample_bylevel=0.7)"
   ]
  },
  {
   "cell_type": "code",
   "execution_count": 10,
   "id": "7ba56ac9",
   "metadata": {},
   "outputs": [
    {
     "name": "stdout",
     "output_type": "stream",
     "text": [
      "Well-level Results: 68.70% Accuracy | 68.36% F1 Score\n",
      "Compound-level Results: 75.00% Accuracy | 71.33% F1 Score\n",
      "Well-level Results: 40.68% Accuracy | 37.69% F1 Score\n",
      "Compound-level Results: 50.00% Accuracy | 43.00% F1 Score\n",
      "Well-level Results: 50.50% Accuracy | 51.91% F1 Score\n",
      "Compound-level Results: 50.00% Accuracy | 50.00% F1 Score\n",
      "Well-level Results: 48.28% Accuracy | 45.43% F1 Score\n",
      "Compound-level Results: 66.67% Accuracy | 59.00% F1 Score\n",
      "Well-level Results: 37.30% Accuracy | 31.54% F1 Score\n",
      "Compound-level Results: 36.84% Accuracy | 30.02% F1 Score\n",
      "---------- Cross-validated Mean Metrics ----------\n",
      "Well-Level: 49.09% Accuracy (+/- 10.92%) | 46.99% F1 Score (+/- 12.72%) \n",
      "Compound-Level: 55.70% Accuracy (+/- 13.52%) | 50.67% F1 Score (+/- 14.01%) \n"
     ]
    }
   ],
   "source": [
    "cv_fold_eval(xgb_model, loaded_data)"
   ]
  },
  {
   "cell_type": "markdown",
   "id": "bc260729",
   "metadata": {},
   "source": [
    "### MADH + Pycy:"
   ]
  },
  {
   "cell_type": "code",
   "execution_count": 18,
   "id": "fb9d9bd7",
   "metadata": {},
   "outputs": [
    {
     "name": "stdout",
     "output_type": "stream",
     "text": [
      "Well-level Results: 60.87% Accuracy | 59.27% F1 Score\n",
      "Compound-level Results: 80.00% Accuracy | 76.67% F1 Score\n",
      "Well-level Results: 38.14% Accuracy | 36.98% F1 Score\n",
      "Compound-level Results: 55.56% Accuracy | 53.67% F1 Score\n",
      "Well-level Results: 51.49% Accuracy | 54.58% F1 Score\n",
      "Compound-level Results: 72.22% Accuracy | 74.29% F1 Score\n",
      "Well-level Results: 43.97% Accuracy | 45.34% F1 Score\n",
      "Compound-level Results: 55.56% Accuracy | 51.67% F1 Score\n",
      "Well-level Results: 38.10% Accuracy | 35.42% F1 Score\n",
      "Compound-level Results: 42.11% Accuracy | 39.11% F1 Score\n",
      "---------- Cross-validated Mean Metrics ----------\n",
      "Well-Level: 46.51% Accuracy (+/- 8.70%) | 46.32% F1 Score (+/- 9.41%) \n",
      "Compound-Level: 61.09% Accuracy (+/- 13.44%) | 59.08% F1 Score (+/- 14.31%) \n"
     ]
    }
   ],
   "source": [
    "cv_fold_eval(xgb_model, loaded_data)"
   ]
  },
  {
   "cell_type": "markdown",
   "id": "e4b86cc1",
   "metadata": {},
   "source": [
    "# SVM:"
   ]
  },
  {
   "cell_type": "markdown",
   "id": "1efcba94",
   "metadata": {},
   "source": [
    "## Baseline:"
   ]
  },
  {
   "cell_type": "code",
   "execution_count": 11,
   "id": "c6b6d344",
   "metadata": {},
   "outputs": [],
   "source": [
    "svm_clf = svm.SVC(random_state = rand_seed, probability=True)"
   ]
  },
  {
   "cell_type": "code",
   "execution_count": 12,
   "id": "27d4594e",
   "metadata": {},
   "outputs": [
    {
     "name": "stdout",
     "output_type": "stream",
     "text": [
      "Well-level Results: 24.43% Accuracy | 14.74% F1 Score\n",
      "Compound-level Results: 50.00% Accuracy | 43.67% F1 Score\n",
      "Well-level Results: 24.09% Accuracy | 14.20% F1 Score\n",
      "Compound-level Results: 36.84% Accuracy | 20.44% F1 Score\n",
      "Well-level Results: 23.01% Accuracy | 22.83% F1 Score\n",
      "Compound-level Results: 42.11% Accuracy | 39.52% F1 Score\n",
      "Well-level Results: 12.70% Accuracy | 7.02% F1 Score\n",
      "Compound-level Results: 15.79% Accuracy | 14.44% F1 Score\n",
      "Well-level Results: 16.41% Accuracy | 10.56% F1 Score\n",
      "Compound-level Results: 21.05% Accuracy | 16.39% F1 Score\n",
      "---------- Cross-validated Mean Metrics ----------\n",
      "Well-Level: 20.13% Accuracy (+/- 4.72%) | 13.87% F1 Score (+/- 5.27%) \n",
      "Compound-Level: 33.16% Accuracy (+/- 12.85%) | 26.89% F1 Score (+/- 12.23%) \n"
     ]
    }
   ],
   "source": [
    "cv_fold_eval(svm_clf, cv_data)"
   ]
  },
  {
   "cell_type": "markdown",
   "id": "907b3f85",
   "metadata": {},
   "source": [
    "## Random Search:"
   ]
  },
  {
   "cell_type": "code",
   "execution_count": 9,
   "id": "45ef9c0f",
   "metadata": {},
   "outputs": [],
   "source": [
    "rs_params = {'C': [0.1, 0.2, 0.5, 1, 10, 100, 1000], \n",
    "              'gamma': [1, 0.1, 0.01, 0.001, 0.0001],\n",
    "              'kernel': ['poly', 'rbf', 'linear']} "
   ]
  },
  {
   "cell_type": "code",
   "execution_count": 10,
   "id": "76175630",
   "metadata": {},
   "outputs": [
    {
     "name": "stdout",
     "output_type": "stream",
     "text": [
      "Fitting 5 folds for each of 50 candidates, totalling 250 fits\n",
      "Best CV Accuracy:  0.5942964001870032\n",
      "Best Parameters:  {'kernel': 'rbf', 'gamma': 0.001, 'C': 100}\n",
      "--------------------------------------------\n",
      "Fitting 5 folds for each of 50 candidates, totalling 250 fits\n",
      "Best CV Accuracy:  0.5780936454849498\n",
      "Best Parameters:  {'kernel': 'rbf', 'gamma': 0.001, 'C': 100}\n",
      "--------------------------------------------\n",
      "Fitting 5 folds for each of 50 candidates, totalling 250 fits\n",
      "Best CV Accuracy:  0.5810526315789474\n",
      "Best Parameters:  {'kernel': 'rbf', 'gamma': 0.001, 'C': 100}\n",
      "--------------------------------------------\n",
      "Fitting 5 folds for each of 50 candidates, totalling 250 fits\n",
      "Best CV Accuracy:  0.5826086956521739\n",
      "Best Parameters:  {'kernel': 'rbf', 'gamma': 0.001, 'C': 100}\n",
      "--------------------------------------------\n",
      "Fitting 5 folds for each of 50 candidates, totalling 250 fits\n",
      "Best CV Accuracy:  0.6666666666666667\n",
      "Best Parameters:  {'kernel': 'rbf', 'gamma': 0.001, 'C': 100}\n",
      "--------------------------------------------\n"
     ]
    }
   ],
   "source": [
    "for cv in range(cv_splits):\n",
    "    # Define model and search:\n",
    "    svm_clf = svm.SVC(random_state = rand_seed, probability=True) \n",
    "    \n",
    "    # Search across 100 different combinations, and use all available cores\n",
    "    svm_random = RandomizedSearchCV(estimator=svm_clf, param_distributions=rs_params, \n",
    "                               n_iter=50, verbose=1, random_state=rand_seed)\n",
    "    \n",
    "    # Fit Random Search Model:\n",
    "    svm_random.fit(loaded_data[cv]['X_train'], loaded_data[cv]['y_train'])\n",
    "    \n",
    "    print(\"Best CV Accuracy: \", svm_random.best_score_)\n",
    "    print(\"Best Parameters: \", svm_random.best_params_)\n",
    "    print(\"--------------------------------------------\")"
   ]
  },
  {
   "cell_type": "code",
   "execution_count": 11,
   "id": "d5f69b7f",
   "metadata": {},
   "outputs": [
    {
     "name": "stdout",
     "output_type": "stream",
     "text": [
      "Well-level Results: 57.39% Accuracy | 55.64% F1 Score\n",
      "Compound-level Results: 80.00% Accuracy | 76.00% F1 Score\n",
      "Well-level Results: 33.90% Accuracy | 29.66% F1 Score\n",
      "Compound-level Results: 44.44% Accuracy | 35.00% F1 Score\n",
      "Well-level Results: 55.45% Accuracy | 55.57% F1 Score\n",
      "Compound-level Results: 72.22% Accuracy | 67.33% F1 Score\n",
      "Well-level Results: 40.52% Accuracy | 41.60% F1 Score\n",
      "Compound-level Results: 50.00% Accuracy | 45.86% F1 Score\n",
      "Well-level Results: 32.54% Accuracy | 29.74% F1 Score\n",
      "Compound-level Results: 36.84% Accuracy | 31.86% F1 Score\n",
      "---------- Cross-validated Mean Metrics ----------\n",
      "Well-Level: 43.96% Accuracy (+/- 10.54%) | 42.44% F1 Score (+/- 11.59%) \n",
      "Compound-Level: 56.70% Accuracy (+/- 16.57%) | 51.21% F1 Score (+/- 17.55%) \n"
     ]
    }
   ],
   "source": [
    "svm_clf = svm.SVC(kernel = 'rbf', gamma = 0.001, C = 100, \n",
    "                  random_state = rand_seed, probability=True)\n",
    "cv_fold_eval(svm_clf, loaded_data)"
   ]
  },
  {
   "cell_type": "markdown",
   "id": "f919c7c8",
   "metadata": {},
   "source": [
    "# Training Full XGBoost Model:"
   ]
  },
  {
   "cell_type": "code",
   "execution_count": 15,
   "id": "4d95a959",
   "metadata": {},
   "outputs": [],
   "source": [
    "# Load full spherized data with Shapley FS:\n",
    "with open('output/MAD_Sphere/MADS_FULL_ShapFS.pkl', 'rb') as file:\n",
    "    full_sph_data = pickle.load(file)"
   ]
  },
  {
   "cell_type": "code",
   "execution_count": 16,
   "id": "74fdc297",
   "metadata": {},
   "outputs": [],
   "source": [
    "xgb_model = XGBClassifier(n_estimators = 400, subsample=0.5, colsample_bytree=0.8, learning_rate = 0.05, \n",
    "                          max_depth=15, colsample_bylevel=0.4)"
   ]
  },
  {
   "cell_type": "code",
   "execution_count": 19,
   "id": "5bdcf1ab",
   "metadata": {},
   "outputs": [
    {
     "data": {
      "text/html": [
       "<style>#sk-container-id-1 {color: black;background-color: white;}#sk-container-id-1 pre{padding: 0;}#sk-container-id-1 div.sk-toggleable {background-color: white;}#sk-container-id-1 label.sk-toggleable__label {cursor: pointer;display: block;width: 100%;margin-bottom: 0;padding: 0.3em;box-sizing: border-box;text-align: center;}#sk-container-id-1 label.sk-toggleable__label-arrow:before {content: \"▸\";float: left;margin-right: 0.25em;color: #696969;}#sk-container-id-1 label.sk-toggleable__label-arrow:hover:before {color: black;}#sk-container-id-1 div.sk-estimator:hover label.sk-toggleable__label-arrow:before {color: black;}#sk-container-id-1 div.sk-toggleable__content {max-height: 0;max-width: 0;overflow: hidden;text-align: left;background-color: #f0f8ff;}#sk-container-id-1 div.sk-toggleable__content pre {margin: 0.2em;color: black;border-radius: 0.25em;background-color: #f0f8ff;}#sk-container-id-1 input.sk-toggleable__control:checked~div.sk-toggleable__content {max-height: 200px;max-width: 100%;overflow: auto;}#sk-container-id-1 input.sk-toggleable__control:checked~label.sk-toggleable__label-arrow:before {content: \"▾\";}#sk-container-id-1 div.sk-estimator input.sk-toggleable__control:checked~label.sk-toggleable__label {background-color: #d4ebff;}#sk-container-id-1 div.sk-label input.sk-toggleable__control:checked~label.sk-toggleable__label {background-color: #d4ebff;}#sk-container-id-1 input.sk-hidden--visually {border: 0;clip: rect(1px 1px 1px 1px);clip: rect(1px, 1px, 1px, 1px);height: 1px;margin: -1px;overflow: hidden;padding: 0;position: absolute;width: 1px;}#sk-container-id-1 div.sk-estimator {font-family: monospace;background-color: #f0f8ff;border: 1px dotted black;border-radius: 0.25em;box-sizing: border-box;margin-bottom: 0.5em;}#sk-container-id-1 div.sk-estimator:hover {background-color: #d4ebff;}#sk-container-id-1 div.sk-parallel-item::after {content: \"\";width: 100%;border-bottom: 1px solid gray;flex-grow: 1;}#sk-container-id-1 div.sk-label:hover label.sk-toggleable__label {background-color: #d4ebff;}#sk-container-id-1 div.sk-serial::before {content: \"\";position: absolute;border-left: 1px solid gray;box-sizing: border-box;top: 0;bottom: 0;left: 50%;z-index: 0;}#sk-container-id-1 div.sk-serial {display: flex;flex-direction: column;align-items: center;background-color: white;padding-right: 0.2em;padding-left: 0.2em;position: relative;}#sk-container-id-1 div.sk-item {position: relative;z-index: 1;}#sk-container-id-1 div.sk-parallel {display: flex;align-items: stretch;justify-content: center;background-color: white;position: relative;}#sk-container-id-1 div.sk-item::before, #sk-container-id-1 div.sk-parallel-item::before {content: \"\";position: absolute;border-left: 1px solid gray;box-sizing: border-box;top: 0;bottom: 0;left: 50%;z-index: -1;}#sk-container-id-1 div.sk-parallel-item {display: flex;flex-direction: column;z-index: 1;position: relative;background-color: white;}#sk-container-id-1 div.sk-parallel-item:first-child::after {align-self: flex-end;width: 50%;}#sk-container-id-1 div.sk-parallel-item:last-child::after {align-self: flex-start;width: 50%;}#sk-container-id-1 div.sk-parallel-item:only-child::after {width: 0;}#sk-container-id-1 div.sk-dashed-wrapped {border: 1px dashed gray;margin: 0 0.4em 0.5em 0.4em;box-sizing: border-box;padding-bottom: 0.4em;background-color: white;}#sk-container-id-1 div.sk-label label {font-family: monospace;font-weight: bold;display: inline-block;line-height: 1.2em;}#sk-container-id-1 div.sk-label-container {text-align: center;}#sk-container-id-1 div.sk-container {/* jupyter's `normalize.less` sets `[hidden] { display: none; }` but bootstrap.min.css set `[hidden] { display: none !important; }` so we also need the `!important` here to be able to override the default hidden behavior on the sphinx rendered scikit-learn.org. See: https://github.com/scikit-learn/scikit-learn/issues/21755 */display: inline-block !important;position: relative;}#sk-container-id-1 div.sk-text-repr-fallback {display: none;}</style><div id=\"sk-container-id-1\" class=\"sk-top-container\"><div class=\"sk-text-repr-fallback\"><pre>XGBClassifier(base_score=None, booster=None, callbacks=None,\n",
       "              colsample_bylevel=0.4, colsample_bynode=None,\n",
       "              colsample_bytree=0.8, early_stopping_rounds=None,\n",
       "              enable_categorical=False, eval_metric=None, feature_types=None,\n",
       "              gamma=None, gpu_id=None, grow_policy=None, importance_type=None,\n",
       "              interaction_constraints=None, learning_rate=0.05, max_bin=None,\n",
       "              max_cat_threshold=None, max_cat_to_onehot=None,\n",
       "              max_delta_step=None, max_depth=15, max_leaves=None,\n",
       "              min_child_weight=None, missing=nan, monotone_constraints=None,\n",
       "              n_estimators=400, n_jobs=None, num_parallel_tree=None,\n",
       "              objective=&#x27;multi:softprob&#x27;, predictor=None, ...)</pre><b>In a Jupyter environment, please rerun this cell to show the HTML representation or trust the notebook. <br />On GitHub, the HTML representation is unable to render, please try loading this page with nbviewer.org.</b></div><div class=\"sk-container\" hidden><div class=\"sk-item\"><div class=\"sk-estimator sk-toggleable\"><input class=\"sk-toggleable__control sk-hidden--visually\" id=\"sk-estimator-id-1\" type=\"checkbox\" checked><label for=\"sk-estimator-id-1\" class=\"sk-toggleable__label sk-toggleable__label-arrow\">XGBClassifier</label><div class=\"sk-toggleable__content\"><pre>XGBClassifier(base_score=None, booster=None, callbacks=None,\n",
       "              colsample_bylevel=0.4, colsample_bynode=None,\n",
       "              colsample_bytree=0.8, early_stopping_rounds=None,\n",
       "              enable_categorical=False, eval_metric=None, feature_types=None,\n",
       "              gamma=None, gpu_id=None, grow_policy=None, importance_type=None,\n",
       "              interaction_constraints=None, learning_rate=0.05, max_bin=None,\n",
       "              max_cat_threshold=None, max_cat_to_onehot=None,\n",
       "              max_delta_step=None, max_depth=15, max_leaves=None,\n",
       "              min_child_weight=None, missing=nan, monotone_constraints=None,\n",
       "              n_estimators=400, n_jobs=None, num_parallel_tree=None,\n",
       "              objective=&#x27;multi:softprob&#x27;, predictor=None, ...)</pre></div></div></div></div></div>"
      ],
      "text/plain": [
       "XGBClassifier(base_score=None, booster=None, callbacks=None,\n",
       "              colsample_bylevel=0.4, colsample_bynode=None,\n",
       "              colsample_bytree=0.8, early_stopping_rounds=None,\n",
       "              enable_categorical=False, eval_metric=None, feature_types=None,\n",
       "              gamma=None, gpu_id=None, grow_policy=None, importance_type=None,\n",
       "              interaction_constraints=None, learning_rate=0.05, max_bin=None,\n",
       "              max_cat_threshold=None, max_cat_to_onehot=None,\n",
       "              max_delta_step=None, max_depth=15, max_leaves=None,\n",
       "              min_child_weight=None, missing=nan, monotone_constraints=None,\n",
       "              n_estimators=400, n_jobs=None, num_parallel_tree=None,\n",
       "              objective='multi:softprob', predictor=None, ...)"
      ]
     },
     "execution_count": 19,
     "metadata": {},
     "output_type": "execute_result"
    }
   ],
   "source": [
    "# Fit Model on full data:\n",
    "xgb_model.fit(full_sph_data['sph_X_data'], full_sph_data['sph_y_data'])"
   ]
  },
  {
   "cell_type": "code",
   "execution_count": 21,
   "id": "b94bf058",
   "metadata": {},
   "outputs": [],
   "source": [
    "with open(\"output/XGB/xgb_full_model.pkl\", \"wb\") as model_file:\n",
    "    pickle.dump(xgb_model, model_file)"
   ]
  },
  {
   "cell_type": "code",
   "execution_count": null,
   "id": "0d5cea48",
   "metadata": {},
   "outputs": [],
   "source": []
  }
 ],
 "metadata": {
  "kernelspec": {
   "display_name": "Python 3 (ipykernel)",
   "language": "python",
   "name": "python3"
  },
  "language_info": {
   "codemirror_mode": {
    "name": "ipython",
    "version": 3
   },
   "file_extension": ".py",
   "mimetype": "text/x-python",
   "name": "python",
   "nbconvert_exporter": "python",
   "pygments_lexer": "ipython3",
   "version": "3.10.9"
  },
  "toc": {
   "base_numbering": 1,
   "nav_menu": {},
   "number_sections": true,
   "sideBar": true,
   "skip_h1_title": false,
   "title_cell": "Table of Contents",
   "title_sidebar": "Contents",
   "toc_cell": false,
   "toc_position": {},
   "toc_section_display": true,
   "toc_window_display": true
  }
 },
 "nbformat": 4,
 "nbformat_minor": 5
}
