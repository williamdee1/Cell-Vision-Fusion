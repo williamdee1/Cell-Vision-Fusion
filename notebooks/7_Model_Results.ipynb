{
 "cells": [
  {
   "cell_type": "markdown",
   "id": "164c27a1",
   "metadata": {},
   "source": [
    "**Notebook - Model Results**\n",
    "\n",
    "This notebook combines the cross-validated results from each cv-fold that the model was evaluated on and combines the predictions before calculating performance metrics across all test cases."
   ]
  },
  {
   "cell_type": "code",
   "execution_count": 6,
   "id": "5fcdef0c",
   "metadata": {},
   "outputs": [],
   "source": [
    "import pandas as pd\n",
    "import glob\n",
    "import re\n",
    "import matplotlib.pyplot as plt\n",
    "import matplotlib as mpl\n",
    "import numpy as np\n",
    "from sklearn.metrics import (accuracy_score, f1_score, roc_auc_score, precision_score, auc,\n",
    "                             recall_score, average_precision_score)\n",
    "from modules.viz import conf_mat\n",
    "from modules.eval_funcs import amalgamate_preds\n",
    "\n",
    "cv_folds = 5"
   ]
  },
  {
   "cell_type": "code",
   "execution_count": 13,
   "id": "890e4e1b",
   "metadata": {},
   "outputs": [],
   "source": [
    "def string_to_float_list(s, method='new'):\n",
    "    if method == 'old':\n",
    "        s = s.replace('[', '').replace('[', '').replace('\\n', '')\n",
    "        s = re.sub(r'\\s+', ', ', re.sub(r'\\s*\\]', '', s))\n",
    "#         print(\"STRING\", s)\n",
    "    return [float(val) for val in s.split(',')]"
   ]
  },
  {
   "cell_type": "markdown",
   "id": "d00d029f",
   "metadata": {},
   "source": [
    "# Load Data:"
   ]
  },
  {
   "cell_type": "code",
   "execution_count": 18,
   "id": "3855e74e",
   "metadata": {},
   "outputs": [],
   "source": [
    "def summary_stats(df):\n",
    "    \"\"\"\n",
    "    Calculate summary statistics using combined CV results.\n",
    "    \"\"\"\n",
    "    if 'actual' in df.columns:\n",
    "        df.rename(columns={'actual': 'actuals'}, inplace=True)\n",
    "        \n",
    "    acc = accuracy_score(df.actuals, df.preds)\n",
    "    f1 = f1_score(df.actuals, df.preds, average='macro')\n",
    "    precision = precision_score(df.actuals, df.preds, average='macro', zero_division=0)\n",
    "    recall = recall_score(df.actuals, df.preds, average='macro')\n",
    "    \n",
    "    # Create a prediction array from probs:\n",
    "    pred_arr = np.array(df['proba'].tolist())\n",
    "    roc_auc = roc_auc_score(df.actuals, pred_arr, average='macro', multi_class='ovr')\n",
    "    \n",
    "    # Calculate AUPR for each class\n",
    "    aupr_scores = [average_precision_score(df.actuals == class_index, pred_arr[:, class_index]\n",
    "                                          ) for class_index in range(pred_arr.shape[1])]\n",
    "    mean_aupr = np.mean(aupr_scores)\n",
    "    \n",
    "    return {'acc': acc, 'f1': f1, 'precision': precision, 'recall': recall,\n",
    "           'roc_auc': roc_auc, 'aupr': mean_aupr}"
   ]
  },
  {
   "cell_type": "code",
   "execution_count": 9,
   "id": "4a86cf4c",
   "metadata": {},
   "outputs": [],
   "source": [
    "# Locations of model results:\n",
    "swin_img = 'results/swinv2/model_eval/'  # SwinV2 model results\n",
    "cvf_fusion = 'results/fusion/model_eval/'  # CVF model results\n",
    "ibp_mlp = 'results/IBP_MLP/model_eval'  # IBP MLP model results"
   ]
  },
  {
   "cell_type": "code",
   "execution_count": 8,
   "id": "99758bbf",
   "metadata": {},
   "outputs": [
    {
     "name": "stdout",
     "output_type": "stream",
     "text": [
      "(19765, 13)\n"
     ]
    },
    {
     "data": {
      "text/html": [
       "<div>\n",
       "<style scoped>\n",
       "    .dataframe tbody tr th:only-of-type {\n",
       "        vertical-align: middle;\n",
       "    }\n",
       "\n",
       "    .dataframe tbody tr th {\n",
       "        vertical-align: top;\n",
       "    }\n",
       "\n",
       "    .dataframe thead th {\n",
       "        text-align: right;\n",
       "    }\n",
       "</style>\n",
       "<table border=\"1\" class=\"dataframe\">\n",
       "  <thead>\n",
       "    <tr style=\"text-align: right;\">\n",
       "      <th></th>\n",
       "      <th>Metadata_JCP2022</th>\n",
       "      <th>Metadata_InChIKey</th>\n",
       "      <th>Metadata_InChI</th>\n",
       "      <th>Metadata_Source</th>\n",
       "      <th>Metadata_Plate</th>\n",
       "      <th>Metadata_Well</th>\n",
       "      <th>Metadata_Batch</th>\n",
       "      <th>Metadata_PlateType</th>\n",
       "      <th>moa</th>\n",
       "      <th>target</th>\n",
       "      <th>smiles</th>\n",
       "      <th>clinical_phase</th>\n",
       "      <th>moa_src</th>\n",
       "    </tr>\n",
       "  </thead>\n",
       "  <tbody>\n",
       "    <tr>\n",
       "      <th>0</th>\n",
       "      <td>JCP2022_037716</td>\n",
       "      <td>IVUGFMLRJOCGAS-UHFFFAOYSA-N</td>\n",
       "      <td>InChI=1S/C28H21N7OS/c1-17-15-24(37-16-17)25-20...</td>\n",
       "      <td>source_1</td>\n",
       "      <td>UL001783</td>\n",
       "      <td>B03</td>\n",
       "      <td>Batch5_20221030</td>\n",
       "      <td>COMPOUND</td>\n",
       "      <td>AURK inhibitor</td>\n",
       "      <td>AURKA|AURKB|AURKC</td>\n",
       "      <td>Cc1csc(c1)-c1nnc(Nc2ccc(Oc3ncccc3-c3ccnc(N)n3)...</td>\n",
       "      <td>Phase 1</td>\n",
       "      <td>dr_hub</td>\n",
       "    </tr>\n",
       "    <tr>\n",
       "      <th>1</th>\n",
       "      <td>JCP2022_037716</td>\n",
       "      <td>IVUGFMLRJOCGAS-UHFFFAOYSA-N</td>\n",
       "      <td>InChI=1S/C28H21N7OS/c1-17-15-24(37-16-17)25-20...</td>\n",
       "      <td>source_1</td>\n",
       "      <td>UL001783</td>\n",
       "      <td>B46</td>\n",
       "      <td>Batch5_20221030</td>\n",
       "      <td>COMPOUND</td>\n",
       "      <td>AURK inhibitor</td>\n",
       "      <td>AURKA|AURKB|AURKC</td>\n",
       "      <td>Cc1csc(c1)-c1nnc(Nc2ccc(Oc3ncccc3-c3ccnc(N)n3)...</td>\n",
       "      <td>Phase 1</td>\n",
       "      <td>dr_hub</td>\n",
       "    </tr>\n",
       "  </tbody>\n",
       "</table>\n",
       "</div>"
      ],
      "text/plain": [
       "  Metadata_JCP2022            Metadata_InChIKey  \\\n",
       "0   JCP2022_037716  IVUGFMLRJOCGAS-UHFFFAOYSA-N   \n",
       "1   JCP2022_037716  IVUGFMLRJOCGAS-UHFFFAOYSA-N   \n",
       "\n",
       "                                      Metadata_InChI Metadata_Source  \\\n",
       "0  InChI=1S/C28H21N7OS/c1-17-15-24(37-16-17)25-20...        source_1   \n",
       "1  InChI=1S/C28H21N7OS/c1-17-15-24(37-16-17)25-20...        source_1   \n",
       "\n",
       "  Metadata_Plate Metadata_Well   Metadata_Batch Metadata_PlateType  \\\n",
       "0       UL001783           B03  Batch5_20221030           COMPOUND   \n",
       "1       UL001783           B46  Batch5_20221030           COMPOUND   \n",
       "\n",
       "              moa             target  \\\n",
       "0  AURK inhibitor  AURKA|AURKB|AURKC   \n",
       "1  AURK inhibitor  AURKA|AURKB|AURKC   \n",
       "\n",
       "                                              smiles clinical_phase moa_src  \n",
       "0  Cc1csc(c1)-c1nnc(Nc2ccc(Oc3ncccc3-c3ccnc(N)n3)...        Phase 1  dr_hub  \n",
       "1  Cc1csc(c1)-c1nnc(Nc2ccc(Oc3ncccc3-c3ccnc(N)n3)...        Phase 1  dr_hub  "
      ]
     },
     "execution_count": 8,
     "metadata": {},
     "output_type": "execute_result"
    }
   ],
   "source": [
    "# Load Kinase Inhibitor metadata:\n",
    "ki_meta = pd.read_csv('data/cwp_ki_moa.csv')\n",
    "print(ki_meta.shape)\n",
    "ki_meta.head(2)"
   ]
  },
  {
   "cell_type": "markdown",
   "id": "d8c8ed7d",
   "metadata": {},
   "source": [
    "## Return Prediction Dataframes:"
   ]
  },
  {
   "cell_type": "code",
   "execution_count": 11,
   "id": "14935a06",
   "metadata": {},
   "outputs": [],
   "source": [
    "def return_preds(pred_dir, method, cv_folds=5):\n",
    "    \"\"\"\n",
    "    Returns the five prediction dataframes associated with the cross-val test datasets for the specified model.\n",
    "    method: the method of storing proba data changed, so this reflects how it was stored when each model was run, don't change below\n",
    "    \"\"\"\n",
    "    cpnd_frames = []\n",
    "    well_frames = []\n",
    "\n",
    "    for i in range(cv_folds):\n",
    "        cpnd_file = glob.glob(f'{pred_dir}/CV{i}_eval/cpnd*.csv')\n",
    "        well_file = glob.glob(f'{pred_dir}/CV{i}_eval/well*.csv')\n",
    "        cdf = pd.read_csv(cpnd_file[0])\n",
    "        wdf = pd.read_csv(well_file[0])\n",
    "        cpnd_frames.append(cdf)\n",
    "        well_frames.append(wdf)\n",
    "\n",
    "    # Create combined dataframes of predictions across folds:\n",
    "    cpnd_comb = pd.concat(cpnd_frames, axis=0).reset_index(drop=True)\n",
    "    well_comb = pd.concat(well_frames, axis=0).reset_index(drop=True)\n",
    "    cpnd_comb['proba'] = cpnd_comb['proba'].apply(string_to_float_list, method=method)\n",
    "    well_comb['proba'] = well_comb['proba'].apply(string_to_float_list, method=method)\n",
    "    \n",
    "    return cpnd_comb, well_comb"
   ]
  },
  {
   "cell_type": "markdown",
   "id": "6ae1444f",
   "metadata": {},
   "source": [
    "# Summary Statistics:"
   ]
  },
  {
   "cell_type": "markdown",
   "id": "8d687308",
   "metadata": {},
   "source": [
    "## Swin Image:"
   ]
  },
  {
   "cell_type": "code",
   "execution_count": 14,
   "id": "8c7cfda0",
   "metadata": {},
   "outputs": [],
   "source": [
    "swin_cpnd, swin_well = return_preds(swin_img, method='new')"
   ]
  },
  {
   "cell_type": "markdown",
   "id": "5644593b",
   "metadata": {},
   "source": [
    "- Performance metrics at a compound level:"
   ]
  },
  {
   "cell_type": "code",
   "execution_count": 19,
   "id": "eb1590b1",
   "metadata": {},
   "outputs": [
    {
     "data": {
      "text/plain": [
       "{'acc': 0.6666666666666666,\n",
       " 'f1': 0.6958562413939988,\n",
       " 'precision': 0.7223717948717948,\n",
       " 'recall': 0.6891504410622058,\n",
       " 'roc_auc': 0.8903891744625895,\n",
       " 'aupr': 0.6743125651910769}"
      ]
     },
     "execution_count": 19,
     "metadata": {},
     "output_type": "execute_result"
    }
   ],
   "source": [
    "swin_cpnd_df = amalgamate_preds(swin_cpnd, 'cpnd_ids')\n",
    "summary_stats(swin_cpnd_df)"
   ]
  },
  {
   "cell_type": "markdown",
   "id": "f55f8b92",
   "metadata": {},
   "source": [
    "- Performance metrics at a well level:"
   ]
  },
  {
   "cell_type": "code",
   "execution_count": 34,
   "id": "f6a15274",
   "metadata": {},
   "outputs": [
    {
     "data": {
      "text/plain": [
       "{'acc': 0.5086614173228347,\n",
       " 'f1': 0.5156309749533527,\n",
       " 'precision': 0.5299316917556887,\n",
       " 'recall': 0.5102600411926476,\n",
       " 'roc_auc': 0.8293556964132762,\n",
       " 'aupr': 0.5012733597895953}"
      ]
     },
     "execution_count": 34,
     "metadata": {},
     "output_type": "execute_result"
    }
   ],
   "source": [
    "summary_stats(swin_well)"
   ]
  },
  {
   "cell_type": "markdown",
   "id": "e957b404",
   "metadata": {},
   "source": [
    "## IBP MLP:"
   ]
  },
  {
   "cell_type": "code",
   "execution_count": 75,
   "id": "fa018345",
   "metadata": {},
   "outputs": [],
   "source": [
    "ibp_cpnd, ibp_well = return_preds(ibp_mlp, method='old')"
   ]
  },
  {
   "cell_type": "code",
   "execution_count": 76,
   "id": "1fafab9d",
   "metadata": {},
   "outputs": [
    {
     "data": {
      "text/plain": [
       "{'acc': 0.6559139784946236,\n",
       " 'f1': 0.6507266544197491,\n",
       " 'precision': 0.6806501831501831,\n",
       " 'recall': 0.6454739704739705,\n",
       " 'roc_auc': 0.8944605757519939,\n",
       " 'aupr': 0.6763566642321532}"
      ]
     },
     "execution_count": 76,
     "metadata": {},
     "output_type": "execute_result"
    }
   ],
   "source": [
    "summary_stats(ibp_cpnd)"
   ]
  },
  {
   "cell_type": "code",
   "execution_count": 77,
   "id": "491dc38b",
   "metadata": {},
   "outputs": [
    {
     "data": {
      "text/plain": [
       "{'acc': 0.4861111111111111,\n",
       " 'f1': 0.49803206495679947,\n",
       " 'precision': 0.5046762372918698,\n",
       " 'recall': 0.49432053944028914,\n",
       " 'roc_auc': 0.8328365544673989,\n",
       " 'aupr': 0.5138306028276413}"
      ]
     },
     "execution_count": 77,
     "metadata": {},
     "output_type": "execute_result"
    }
   ],
   "source": [
    "summary_stats(ibp_well)"
   ]
  },
  {
   "cell_type": "markdown",
   "id": "0136ed26",
   "metadata": {},
   "source": [
    "## Cell-Vision Fusion:"
   ]
  },
  {
   "cell_type": "code",
   "execution_count": 23,
   "id": "395035d8",
   "metadata": {},
   "outputs": [],
   "source": [
    "fuse_cpnd, fuse_well = return_preds(cvf_fusion, method='old')"
   ]
  },
  {
   "cell_type": "code",
   "execution_count": 25,
   "id": "9502a107",
   "metadata": {},
   "outputs": [
    {
     "data": {
      "text/plain": [
       "{'acc': 0.6979166666666666,\n",
       " 'f1': 0.7056240981240982,\n",
       " 'precision': 0.733980405559353,\n",
       " 'recall': 0.6986832122126241,\n",
       " 'roc_auc': 0.9073359725095406,\n",
       " 'aupr': 0.741223030335291}"
      ]
     },
     "execution_count": 25,
     "metadata": {},
     "output_type": "execute_result"
    }
   ],
   "source": [
    "fuse_cpnd_df = amalgamate_preds(fuse_cpnd, 'cpnd_ids')\n",
    "summary_stats(fuse_cpnd_df)"
   ]
  },
  {
   "cell_type": "code",
   "execution_count": 26,
   "id": "5f7216c5",
   "metadata": {},
   "outputs": [
    {
     "data": {
      "text/plain": [
       "{'acc': 0.573228346456693,\n",
       " 'f1': 0.5661536124758205,\n",
       " 'precision': 0.5833149743472675,\n",
       " 'recall': 0.5622480545889381,\n",
       " 'roc_auc': 0.8671299891316183,\n",
       " 'aupr': 0.6076237281421811}"
      ]
     },
     "execution_count": 26,
     "metadata": {},
     "output_type": "execute_result"
    }
   ],
   "source": [
    "summary_stats(fuse_well)"
   ]
  }
 ],
 "metadata": {
  "kernelspec": {
   "display_name": "Python 3 (ipykernel)",
   "language": "python",
   "name": "python3"
  },
  "language_info": {
   "codemirror_mode": {
    "name": "ipython",
    "version": 3
   },
   "file_extension": ".py",
   "mimetype": "text/x-python",
   "name": "python",
   "nbconvert_exporter": "python",
   "pygments_lexer": "ipython3",
   "version": "3.10.9"
  },
  "toc": {
   "base_numbering": 1,
   "nav_menu": {},
   "number_sections": true,
   "sideBar": true,
   "skip_h1_title": false,
   "title_cell": "Table of Contents",
   "title_sidebar": "Contents",
   "toc_cell": false,
   "toc_position": {},
   "toc_section_display": true,
   "toc_window_display": false
  }
 },
 "nbformat": 4,
 "nbformat_minor": 5
}
