{
 "cells": [
  {
   "cell_type": "markdown",
   "id": "30944561",
   "metadata": {},
   "source": [
    "**Notebook - Preparing MOA Label Data**\n",
    "\n",
    "This notebook loads compound mechanism of action information obtained from ChEMBL and the Drug Repurposing Hub and alters then to align with the information from the JUMP dataset metadata."
   ]
  },
  {
   "cell_type": "markdown",
   "id": "4b96f4d7",
   "metadata": {},
   "source": [
    "# Imports:"
   ]
  },
  {
   "cell_type": "code",
   "execution_count": 11,
   "id": "59f9b6b4",
   "metadata": {},
   "outputs": [],
   "source": [
    "import pandas as pd\n",
    "import numpy as np\n",
    "import rdkit.Chem.inchi as inchi"
   ]
  },
  {
   "cell_type": "markdown",
   "id": "ed5dfec4",
   "metadata": {},
   "source": [
    "# ChEMBL MOA Data:\n",
    "\n",
    "See foot of https://github.com/jump-cellpainting/compound-annotator for data creation steps."
   ]
  },
  {
   "cell_type": "markdown",
   "id": "75991b46",
   "metadata": {},
   "source": [
    "## ChEMBL annotation file"
   ]
  },
  {
   "cell_type": "code",
   "execution_count": 3,
   "id": "eeaf9f8f",
   "metadata": {},
   "outputs": [],
   "source": [
    "# Read in the ChEMBL annotation file:\n",
    "chembl_df = pd.read_csv(\"../data/metadata/chembl/chembl_annotation.csv.gz\")"
   ]
  },
  {
   "cell_type": "code",
   "execution_count": 4,
   "id": "94be8087",
   "metadata": {},
   "outputs": [
    {
     "name": "stdout",
     "output_type": "stream",
     "text": [
      "(556272, 2)\n"
     ]
    },
    {
     "data": {
      "text/html": [
       "<div>\n",
       "<style scoped>\n",
       "    .dataframe tbody tr th:only-of-type {\n",
       "        vertical-align: middle;\n",
       "    }\n",
       "\n",
       "    .dataframe tbody tr th {\n",
       "        vertical-align: top;\n",
       "    }\n",
       "\n",
       "    .dataframe thead th {\n",
       "        text-align: right;\n",
       "    }\n",
       "</style>\n",
       "<table border=\"1\" class=\"dataframe\">\n",
       "  <thead>\n",
       "    <tr style=\"text-align: right;\">\n",
       "      <th></th>\n",
       "      <th>molecule_chembl_id</th>\n",
       "      <th>standard_inchi_key</th>\n",
       "    </tr>\n",
       "  </thead>\n",
       "  <tbody>\n",
       "    <tr>\n",
       "      <th>0</th>\n",
       "      <td>CHEMBL4107559</td>\n",
       "      <td>UVVXRMZCPKQLAO-OAHLLOKOSA-N</td>\n",
       "    </tr>\n",
       "    <tr>\n",
       "      <th>1</th>\n",
       "      <td>CHEMBL4108338</td>\n",
       "      <td>OZBMIGDQBBMIRA-CQSZACIVSA-N</td>\n",
       "    </tr>\n",
       "  </tbody>\n",
       "</table>\n",
       "</div>"
      ],
      "text/plain": [
       "  molecule_chembl_id           standard_inchi_key\n",
       "0      CHEMBL4107559  UVVXRMZCPKQLAO-OAHLLOKOSA-N\n",
       "1      CHEMBL4108338  OZBMIGDQBBMIRA-CQSZACIVSA-N"
      ]
     },
     "execution_count": 4,
     "metadata": {},
     "output_type": "execute_result"
    }
   ],
   "source": [
    "# columns to drop from ChEMBL data:\n",
    "drop_cols = ['assay_chembl_id','target_chembl_id','assay_type','pchembl_value',\n",
    "             'confidence_score', 'pref_name']\n",
    "chembl_df = chembl_df.drop(drop_cols, axis=1).drop_duplicates().reset_index(drop=True)\n",
    "print(chembl_df.shape)\n",
    "chembl_df.head(2)"
   ]
  },
  {
   "cell_type": "markdown",
   "id": "7fcb0eb9",
   "metadata": {},
   "source": [
    "## ChEMBL Kinase Mechanism Data:\n",
    "Source: https://www.ebi.ac.uk/chembl/g/#browse/mechanisms_of_action"
   ]
  },
  {
   "cell_type": "code",
   "execution_count": 6,
   "id": "226078d0",
   "metadata": {},
   "outputs": [
    {
     "name": "stdout",
     "output_type": "stream",
     "text": [
      "(1022, 12)\n"
     ]
    },
    {
     "data": {
      "text/html": [
       "<div>\n",
       "<style scoped>\n",
       "    .dataframe tbody tr th:only-of-type {\n",
       "        vertical-align: middle;\n",
       "    }\n",
       "\n",
       "    .dataframe tbody tr th {\n",
       "        vertical-align: top;\n",
       "    }\n",
       "\n",
       "    .dataframe thead th {\n",
       "        text-align: right;\n",
       "    }\n",
       "</style>\n",
       "<table border=\"1\" class=\"dataframe\">\n",
       "  <thead>\n",
       "    <tr style=\"text-align: right;\">\n",
       "      <th></th>\n",
       "      <th>molecule_chembl_id</th>\n",
       "      <th>Parent Molecule Name</th>\n",
       "      <th>Parent Molecule Type</th>\n",
       "      <th>Max Phase</th>\n",
       "      <th>Mechanism of Action</th>\n",
       "      <th>Target Name</th>\n",
       "      <th>moa</th>\n",
       "      <th>Smiles</th>\n",
       "      <th>target_chembl_id</th>\n",
       "      <th>Action Type</th>\n",
       "      <th>Target Type</th>\n",
       "      <th>Target Organism</th>\n",
       "    </tr>\n",
       "  </thead>\n",
       "  <tbody>\n",
       "    <tr>\n",
       "      <th>0</th>\n",
       "      <td>CHEMBL4650485</td>\n",
       "      <td>PIRTOBRUTINIB</td>\n",
       "      <td>Small molecule</td>\n",
       "      <td>3</td>\n",
       "      <td>Tyrosine-protein kinase BTK inhibitor</td>\n",
       "      <td>Tyrosine-protein kinase BTK</td>\n",
       "      <td>BTK inhibitor</td>\n",
       "      <td>COc1ccc(F)cc1C(=O)NCc1ccc(-c2nn([C@@H](C)C(F)(...</td>\n",
       "      <td>CHEMBL5251</td>\n",
       "      <td>INHIBITOR</td>\n",
       "      <td>SINGLE PROTEIN</td>\n",
       "      <td>Homo sapiens</td>\n",
       "    </tr>\n",
       "    <tr>\n",
       "      <th>1</th>\n",
       "      <td>CHEMBL3991932</td>\n",
       "      <td>PEXMETINIB</td>\n",
       "      <td>Small molecule</td>\n",
       "      <td>1</td>\n",
       "      <td>Tyrosine-protein kinase TIE-2 inhibitor</td>\n",
       "      <td>Tyrosine-protein kinase TIE-2</td>\n",
       "      <td>TIE inhibitor</td>\n",
       "      <td>Cc1ccc(-n2nc(C(C)(C)C)cc2NC(=O)NCc2cc(F)ccc2Oc...</td>\n",
       "      <td>CHEMBL4128</td>\n",
       "      <td>INHIBITOR</td>\n",
       "      <td>SINGLE PROTEIN</td>\n",
       "      <td>Homo sapiens</td>\n",
       "    </tr>\n",
       "  </tbody>\n",
       "</table>\n",
       "</div>"
      ],
      "text/plain": [
       "  molecule_chembl_id Parent Molecule Name Parent Molecule Type Max Phase  \\\n",
       "0      CHEMBL4650485        PIRTOBRUTINIB       Small molecule         3   \n",
       "1      CHEMBL3991932           PEXMETINIB       Small molecule         1   \n",
       "\n",
       "                       Mechanism of Action                    Target Name  \\\n",
       "0    Tyrosine-protein kinase BTK inhibitor    Tyrosine-protein kinase BTK   \n",
       "1  Tyrosine-protein kinase TIE-2 inhibitor  Tyrosine-protein kinase TIE-2   \n",
       "\n",
       "             moa                                             Smiles  \\\n",
       "0  BTK inhibitor  COc1ccc(F)cc1C(=O)NCc1ccc(-c2nn([C@@H](C)C(F)(...   \n",
       "1  TIE inhibitor  Cc1ccc(-n2nc(C(C)(C)C)cc2NC(=O)NCc2cc(F)ccc2Oc...   \n",
       "\n",
       "  target_chembl_id Action Type     Target Type Target Organism  \n",
       "0       CHEMBL5251   INHIBITOR  SINGLE PROTEIN    Homo sapiens  \n",
       "1       CHEMBL4128   INHIBITOR  SINGLE PROTEIN    Homo sapiens  "
      ]
     },
     "execution_count": 6,
     "metadata": {},
     "output_type": "execute_result"
    }
   ],
   "source": [
    "chembl_kinase = pd.read_csv('../data/metadata/chembl/chembl_kinase_moa.csv')\n",
    "print(chembl_kinase.shape)\n",
    "chembl_kinase.head(2)"
   ]
  },
  {
   "cell_type": "markdown",
   "id": "dbef8567",
   "metadata": {},
   "source": [
    "## Combine MOA with inchi_key data:\n",
    "'standard_inchi_key' in ChEMBL can be matched to 'Metadata_InChIKey' in the JUMP compound metadata, see here for more details: https://github.com/jump-cellpainting/compound-annotator"
   ]
  },
  {
   "cell_type": "code",
   "execution_count": 7,
   "id": "db5fe594",
   "metadata": {},
   "outputs": [
    {
     "name": "stdout",
     "output_type": "stream",
     "text": [
      "(672, 13)\n"
     ]
    },
    {
     "data": {
      "text/html": [
       "<div>\n",
       "<style scoped>\n",
       "    .dataframe tbody tr th:only-of-type {\n",
       "        vertical-align: middle;\n",
       "    }\n",
       "\n",
       "    .dataframe tbody tr th {\n",
       "        vertical-align: top;\n",
       "    }\n",
       "\n",
       "    .dataframe thead th {\n",
       "        text-align: right;\n",
       "    }\n",
       "</style>\n",
       "<table border=\"1\" class=\"dataframe\">\n",
       "  <thead>\n",
       "    <tr style=\"text-align: right;\">\n",
       "      <th></th>\n",
       "      <th>molecule_chembl_id</th>\n",
       "      <th>Parent Molecule Name</th>\n",
       "      <th>Parent Molecule Type</th>\n",
       "      <th>Max Phase</th>\n",
       "      <th>Mechanism of Action</th>\n",
       "      <th>Target Name</th>\n",
       "      <th>moa</th>\n",
       "      <th>Smiles</th>\n",
       "      <th>target_chembl_id</th>\n",
       "      <th>Action Type</th>\n",
       "      <th>Target Type</th>\n",
       "      <th>Target Organism</th>\n",
       "      <th>standard_inchi_key</th>\n",
       "    </tr>\n",
       "  </thead>\n",
       "  <tbody>\n",
       "    <tr>\n",
       "      <th>0</th>\n",
       "      <td>CHEMBL3991932</td>\n",
       "      <td>PEXMETINIB</td>\n",
       "      <td>Small molecule</td>\n",
       "      <td>1</td>\n",
       "      <td>Tyrosine-protein kinase TIE-2 inhibitor</td>\n",
       "      <td>Tyrosine-protein kinase TIE-2</td>\n",
       "      <td>TIE inhibitor</td>\n",
       "      <td>Cc1ccc(-n2nc(C(C)(C)C)cc2NC(=O)NCc2cc(F)ccc2Oc...</td>\n",
       "      <td>CHEMBL4128</td>\n",
       "      <td>INHIBITOR</td>\n",
       "      <td>SINGLE PROTEIN</td>\n",
       "      <td>Homo sapiens</td>\n",
       "      <td>LNMRSSIMGCDUTP-UHFFFAOYSA-N</td>\n",
       "    </tr>\n",
       "    <tr>\n",
       "      <th>1</th>\n",
       "      <td>CHEMBL3991932</td>\n",
       "      <td>PEXMETINIB</td>\n",
       "      <td>Small molecule</td>\n",
       "      <td>1</td>\n",
       "      <td>MAP kinase p38 alpha inhibitor</td>\n",
       "      <td>MAP kinase p38 alpha</td>\n",
       "      <td>p38 MAPK inhibitor</td>\n",
       "      <td>Cc1ccc(-n2nc(C(C)(C)C)cc2NC(=O)NCc2cc(F)ccc2Oc...</td>\n",
       "      <td>CHEMBL260</td>\n",
       "      <td>INHIBITOR</td>\n",
       "      <td>SINGLE PROTEIN</td>\n",
       "      <td>Homo sapiens</td>\n",
       "      <td>LNMRSSIMGCDUTP-UHFFFAOYSA-N</td>\n",
       "    </tr>\n",
       "  </tbody>\n",
       "</table>\n",
       "</div>"
      ],
      "text/plain": [
       "  molecule_chembl_id Parent Molecule Name Parent Molecule Type Max Phase  \\\n",
       "0      CHEMBL3991932           PEXMETINIB       Small molecule         1   \n",
       "1      CHEMBL3991932           PEXMETINIB       Small molecule         1   \n",
       "\n",
       "                       Mechanism of Action                    Target Name  \\\n",
       "0  Tyrosine-protein kinase TIE-2 inhibitor  Tyrosine-protein kinase TIE-2   \n",
       "1           MAP kinase p38 alpha inhibitor           MAP kinase p38 alpha   \n",
       "\n",
       "                  moa                                             Smiles  \\\n",
       "0       TIE inhibitor  Cc1ccc(-n2nc(C(C)(C)C)cc2NC(=O)NCc2cc(F)ccc2Oc...   \n",
       "1  p38 MAPK inhibitor  Cc1ccc(-n2nc(C(C)(C)C)cc2NC(=O)NCc2cc(F)ccc2Oc...   \n",
       "\n",
       "  target_chembl_id Action Type     Target Type Target Organism  \\\n",
       "0       CHEMBL4128   INHIBITOR  SINGLE PROTEIN    Homo sapiens   \n",
       "1        CHEMBL260   INHIBITOR  SINGLE PROTEIN    Homo sapiens   \n",
       "\n",
       "            standard_inchi_key  \n",
       "0  LNMRSSIMGCDUTP-UHFFFAOYSA-N  \n",
       "1  LNMRSSIMGCDUTP-UHFFFAOYSA-N  "
      ]
     },
     "execution_count": 7,
     "metadata": {},
     "output_type": "execute_result"
    }
   ],
   "source": [
    "chembl_data = pd.merge(chembl_kinase, chembl_df, on='molecule_chembl_id', how='inner')\n",
    "print(chembl_data.shape)\n",
    "chembl_data.head(2)"
   ]
  },
  {
   "cell_type": "code",
   "execution_count": null,
   "id": "4b34d3b8",
   "metadata": {},
   "outputs": [],
   "source": [
    "# Rename columns to align with Drug Repo. Data:\n",
    "chembl_data.rename(columns={\"standard_inchi_key\": \"Metadata_InChIKey\", \"Smiles\":\"smiles\",\n",
    "                          \"Target Name\": \"target\", \"Max Phase\": \"clinical_phase\"}, inplace=True)\n",
    "chembl_data['moa_src'] = 'chembl'\n",
    "# Drop any duplicates with same ID and moa:\n",
    "chembl_data = chembl_data.drop_duplicates(subset=['Metadata_InChIKey', 'moa'])"
   ]
  },
  {
   "cell_type": "markdown",
   "id": "8eda467a",
   "metadata": {},
   "source": [
    "# Drug Repurposing Hub MOA Data:\n",
    "Sourced from https://clue.io/repurposing#download-data\n",
    "and https://github.com/jump-cellpainting/compound-annotator/blob/main/data/repurposing_samples_20200324_cleaned.txt.gz"
   ]
  },
  {
   "cell_type": "markdown",
   "id": "5e95c5e2",
   "metadata": {},
   "source": [
    "## Drug Dataframe\n",
    "Contains MOA labels."
   ]
  },
  {
   "cell_type": "code",
   "execution_count": 8,
   "id": "5a5b3878",
   "metadata": {},
   "outputs": [
    {
     "name": "stdout",
     "output_type": "stream",
     "text": [
      "(6798, 6)\n"
     ]
    },
    {
     "data": {
      "text/html": [
       "<div>\n",
       "<style scoped>\n",
       "    .dataframe tbody tr th:only-of-type {\n",
       "        vertical-align: middle;\n",
       "    }\n",
       "\n",
       "    .dataframe tbody tr th {\n",
       "        vertical-align: top;\n",
       "    }\n",
       "\n",
       "    .dataframe thead th {\n",
       "        text-align: right;\n",
       "    }\n",
       "</style>\n",
       "<table border=\"1\" class=\"dataframe\">\n",
       "  <thead>\n",
       "    <tr style=\"text-align: right;\">\n",
       "      <th></th>\n",
       "      <th>pert_iname</th>\n",
       "      <th>clinical_phase</th>\n",
       "      <th>moa</th>\n",
       "      <th>target</th>\n",
       "      <th>disease_area</th>\n",
       "      <th>indication</th>\n",
       "    </tr>\n",
       "  </thead>\n",
       "  <tbody>\n",
       "    <tr>\n",
       "      <th>0</th>\n",
       "      <td>(R)-(-)-apomorphine</td>\n",
       "      <td>Launched</td>\n",
       "      <td>dopamine receptor agonist</td>\n",
       "      <td>ADRA2A|ADRA2B|ADRA2C|CALY|DRD1|DRD2|DRD3|DRD4|...</td>\n",
       "      <td>neurology/psychiatry</td>\n",
       "      <td>Parkinson's Disease</td>\n",
       "    </tr>\n",
       "    <tr>\n",
       "      <th>1</th>\n",
       "      <td>(R)-(-)-rolipram</td>\n",
       "      <td>Phase 1</td>\n",
       "      <td>phosphodiesterase inhibitor</td>\n",
       "      <td>PDE4A|PDE4B|PDE4C|PDE4D|PDE5A</td>\n",
       "      <td>NaN</td>\n",
       "      <td>NaN</td>\n",
       "    </tr>\n",
       "  </tbody>\n",
       "</table>\n",
       "</div>"
      ],
      "text/plain": [
       "            pert_iname clinical_phase                          moa  \\\n",
       "0  (R)-(-)-apomorphine       Launched    dopamine receptor agonist   \n",
       "1     (R)-(-)-rolipram        Phase 1  phosphodiesterase inhibitor   \n",
       "\n",
       "                                              target          disease_area  \\\n",
       "0  ADRA2A|ADRA2B|ADRA2C|CALY|DRD1|DRD2|DRD3|DRD4|...  neurology/psychiatry   \n",
       "1                      PDE4A|PDE4B|PDE4C|PDE4D|PDE5A                   NaN   \n",
       "\n",
       "            indication  \n",
       "0  Parkinson's Disease  \n",
       "1                  NaN  "
      ]
     },
     "execution_count": 8,
     "metadata": {},
     "output_type": "execute_result"
    }
   ],
   "source": [
    "drug_df = pd.read_csv('../data/metadata/clue_io/repurposing_drugs_20200324_cleaned.txt', \n",
    "                      encoding=\"ISO-8859-1\", sep=\"\\t\", comment=\"!\")\n",
    "\n",
    "print(drug_df.shape)\n",
    "drug_df.head(2)"
   ]
  },
  {
   "cell_type": "markdown",
   "id": "ebb2e6c0",
   "metadata": {},
   "source": [
    "## Sample Dataframe\n",
    "Contains 'InChlKey', used to match to JUMP data."
   ]
  },
  {
   "cell_type": "code",
   "execution_count": 9,
   "id": "2a978881",
   "metadata": {},
   "outputs": [
    {
     "name": "stdout",
     "output_type": "stream",
     "text": [
      "(13553, 12)\n"
     ]
    },
    {
     "data": {
      "text/html": [
       "<div>\n",
       "<style scoped>\n",
       "    .dataframe tbody tr th:only-of-type {\n",
       "        vertical-align: middle;\n",
       "    }\n",
       "\n",
       "    .dataframe tbody tr th {\n",
       "        vertical-align: top;\n",
       "    }\n",
       "\n",
       "    .dataframe thead th {\n",
       "        text-align: right;\n",
       "    }\n",
       "</style>\n",
       "<table border=\"1\" class=\"dataframe\">\n",
       "  <thead>\n",
       "    <tr style=\"text-align: right;\">\n",
       "      <th></th>\n",
       "      <th>broad_id</th>\n",
       "      <th>pert_iname</th>\n",
       "      <th>qc_incompatible</th>\n",
       "      <th>purity</th>\n",
       "      <th>vendor</th>\n",
       "      <th>catalog_no</th>\n",
       "      <th>vendor_name</th>\n",
       "      <th>expected_mass</th>\n",
       "      <th>smiles</th>\n",
       "      <th>InChIKey</th>\n",
       "      <th>pubchem_cid</th>\n",
       "      <th>deprecated_broad_id</th>\n",
       "    </tr>\n",
       "  </thead>\n",
       "  <tbody>\n",
       "    <tr>\n",
       "      <th>0</th>\n",
       "      <td>BRD-K76022557-003-28-9</td>\n",
       "      <td>(R)-(-)-apomorphine</td>\n",
       "      <td>0</td>\n",
       "      <td>98.90</td>\n",
       "      <td>MedChemEx</td>\n",
       "      <td>HY-12723A</td>\n",
       "      <td>Apomorphine (hydrochloride hemihydrate)</td>\n",
       "      <td>267.126</td>\n",
       "      <td>CN1CCc2cccc-3c2[C@H]1Cc1ccc(O)c(O)c-31</td>\n",
       "      <td>VMWNQDUVQKEIOC-CYBMUJFWSA-N</td>\n",
       "      <td>6005.0</td>\n",
       "      <td>NaN</td>\n",
       "    </tr>\n",
       "    <tr>\n",
       "      <th>1</th>\n",
       "      <td>BRD-K76022557-003-02-7</td>\n",
       "      <td>(R)-(-)-apomorphine</td>\n",
       "      <td>0</td>\n",
       "      <td>97.34</td>\n",
       "      <td>Tocris</td>\n",
       "      <td>2073</td>\n",
       "      <td>(R)-(-)-Apomorphine hydrochloride</td>\n",
       "      <td>267.126</td>\n",
       "      <td>CN1CCc2cccc-3c2[C@H]1Cc1ccc(O)c(O)c-31</td>\n",
       "      <td>VMWNQDUVQKEIOC-CYBMUJFWSA-N</td>\n",
       "      <td>6005.0</td>\n",
       "      <td>NaN</td>\n",
       "    </tr>\n",
       "  </tbody>\n",
       "</table>\n",
       "</div>"
      ],
      "text/plain": [
       "                 broad_id           pert_iname  qc_incompatible  purity  \\\n",
       "0  BRD-K76022557-003-28-9  (R)-(-)-apomorphine                0   98.90   \n",
       "1  BRD-K76022557-003-02-7  (R)-(-)-apomorphine                0   97.34   \n",
       "\n",
       "      vendor catalog_no                              vendor_name  \\\n",
       "0  MedChemEx  HY-12723A  Apomorphine (hydrochloride hemihydrate)   \n",
       "1     Tocris       2073        (R)-(-)-Apomorphine hydrochloride   \n",
       "\n",
       "  expected_mass                                  smiles  \\\n",
       "0       267.126  CN1CCc2cccc-3c2[C@H]1Cc1ccc(O)c(O)c-31   \n",
       "1       267.126  CN1CCc2cccc-3c2[C@H]1Cc1ccc(O)c(O)c-31   \n",
       "\n",
       "                      InChIKey  pubchem_cid deprecated_broad_id  \n",
       "0  VMWNQDUVQKEIOC-CYBMUJFWSA-N       6005.0                 NaN  \n",
       "1  VMWNQDUVQKEIOC-CYBMUJFWSA-N       6005.0                 NaN  "
      ]
     },
     "execution_count": 9,
     "metadata": {},
     "output_type": "execute_result"
    }
   ],
   "source": [
    "sample_df = pd.read_csv('../data/metadata/clue_io/repurposing_samples_20200324_cleaned.txt', \n",
    "                        encoding=\"ISO-8859-1\", sep=\"\\t\", comment=\"!\")\n",
    "\n",
    "print(sample_df.shape)\n",
    "sample_df.head(2)"
   ]
  },
  {
   "cell_type": "markdown",
   "id": "50a990e2",
   "metadata": {},
   "source": [
    "## Merge the Drug and Sample Dataframes:\n",
    "See https://github.com/broadinstitute/lincs-cell-painting/tree/master/metadata/moa for previous usage of this approach."
   ]
  },
  {
   "cell_type": "code",
   "execution_count": 12,
   "id": "4fd8cf5a",
   "metadata": {},
   "outputs": [
    {
     "name": "stdout",
     "output_type": "stream",
     "text": [
      "(13553, 18)\n"
     ]
    },
    {
     "data": {
      "text/html": [
       "<div>\n",
       "<style scoped>\n",
       "    .dataframe tbody tr th:only-of-type {\n",
       "        vertical-align: middle;\n",
       "    }\n",
       "\n",
       "    .dataframe tbody tr th {\n",
       "        vertical-align: top;\n",
       "    }\n",
       "\n",
       "    .dataframe thead th {\n",
       "        text-align: right;\n",
       "    }\n",
       "</style>\n",
       "<table border=\"1\" class=\"dataframe\">\n",
       "  <thead>\n",
       "    <tr style=\"text-align: right;\">\n",
       "      <th></th>\n",
       "      <th>broad_id</th>\n",
       "      <th>pert_iname</th>\n",
       "      <th>clinical_phase</th>\n",
       "      <th>moa</th>\n",
       "      <th>target</th>\n",
       "      <th>disease_area</th>\n",
       "      <th>indication</th>\n",
       "      <th>qc_incompatible</th>\n",
       "      <th>purity</th>\n",
       "      <th>vendor</th>\n",
       "      <th>catalog_no</th>\n",
       "      <th>vendor_name</th>\n",
       "      <th>expected_mass</th>\n",
       "      <th>smiles</th>\n",
       "      <th>Metadata_InChIKey</th>\n",
       "      <th>pubchem_cid</th>\n",
       "      <th>deprecated_broad_id</th>\n",
       "      <th>InChIKey14</th>\n",
       "    </tr>\n",
       "  </thead>\n",
       "  <tbody>\n",
       "    <tr>\n",
       "      <th>0</th>\n",
       "      <td>BRD-K76022557-003-28-9</td>\n",
       "      <td>(R)-(-)-apomorphine</td>\n",
       "      <td>Launched</td>\n",
       "      <td>dopamine receptor agonist</td>\n",
       "      <td>ADRA2A|ADRA2B|ADRA2C|CALY|DRD1|DRD2|DRD3|DRD4|...</td>\n",
       "      <td>neurology/psychiatry</td>\n",
       "      <td>Parkinson's Disease</td>\n",
       "      <td>0</td>\n",
       "      <td>98.90</td>\n",
       "      <td>MedChemEx</td>\n",
       "      <td>HY-12723A</td>\n",
       "      <td>Apomorphine (hydrochloride hemihydrate)</td>\n",
       "      <td>267.126</td>\n",
       "      <td>CN1CCc2cccc-3c2[C@H]1Cc1ccc(O)c(O)c-31</td>\n",
       "      <td>VMWNQDUVQKEIOC-CYBMUJFWSA-N</td>\n",
       "      <td>6005.0</td>\n",
       "      <td>NaN</td>\n",
       "      <td>VMWNQDUVQKEIOC</td>\n",
       "    </tr>\n",
       "    <tr>\n",
       "      <th>1</th>\n",
       "      <td>BRD-K76022557-003-02-7</td>\n",
       "      <td>(R)-(-)-apomorphine</td>\n",
       "      <td>Launched</td>\n",
       "      <td>dopamine receptor agonist</td>\n",
       "      <td>ADRA2A|ADRA2B|ADRA2C|CALY|DRD1|DRD2|DRD3|DRD4|...</td>\n",
       "      <td>neurology/psychiatry</td>\n",
       "      <td>Parkinson's Disease</td>\n",
       "      <td>0</td>\n",
       "      <td>97.34</td>\n",
       "      <td>Tocris</td>\n",
       "      <td>2073</td>\n",
       "      <td>(R)-(-)-Apomorphine hydrochloride</td>\n",
       "      <td>267.126</td>\n",
       "      <td>CN1CCc2cccc-3c2[C@H]1Cc1ccc(O)c(O)c-31</td>\n",
       "      <td>VMWNQDUVQKEIOC-CYBMUJFWSA-N</td>\n",
       "      <td>6005.0</td>\n",
       "      <td>NaN</td>\n",
       "      <td>VMWNQDUVQKEIOC</td>\n",
       "    </tr>\n",
       "  </tbody>\n",
       "</table>\n",
       "</div>"
      ],
      "text/plain": [
       "                 broad_id           pert_iname clinical_phase  \\\n",
       "0  BRD-K76022557-003-28-9  (R)-(-)-apomorphine       Launched   \n",
       "1  BRD-K76022557-003-02-7  (R)-(-)-apomorphine       Launched   \n",
       "\n",
       "                         moa  \\\n",
       "0  dopamine receptor agonist   \n",
       "1  dopamine receptor agonist   \n",
       "\n",
       "                                              target          disease_area  \\\n",
       "0  ADRA2A|ADRA2B|ADRA2C|CALY|DRD1|DRD2|DRD3|DRD4|...  neurology/psychiatry   \n",
       "1  ADRA2A|ADRA2B|ADRA2C|CALY|DRD1|DRD2|DRD3|DRD4|...  neurology/psychiatry   \n",
       "\n",
       "            indication  qc_incompatible  purity     vendor catalog_no  \\\n",
       "0  Parkinson's Disease                0   98.90  MedChemEx  HY-12723A   \n",
       "1  Parkinson's Disease                0   97.34     Tocris       2073   \n",
       "\n",
       "                               vendor_name expected_mass  \\\n",
       "0  Apomorphine (hydrochloride hemihydrate)       267.126   \n",
       "1        (R)-(-)-Apomorphine hydrochloride       267.126   \n",
       "\n",
       "                                   smiles            Metadata_InChIKey  \\\n",
       "0  CN1CCc2cccc-3c2[C@H]1Cc1ccc(O)c(O)c-31  VMWNQDUVQKEIOC-CYBMUJFWSA-N   \n",
       "1  CN1CCc2cccc-3c2[C@H]1Cc1ccc(O)c(O)c-31  VMWNQDUVQKEIOC-CYBMUJFWSA-N   \n",
       "\n",
       "   pubchem_cid deprecated_broad_id      InChIKey14  \n",
       "0       6005.0                 NaN  VMWNQDUVQKEIOC  \n",
       "1       6005.0                 NaN  VMWNQDUVQKEIOC  "
      ]
     },
     "execution_count": 12,
     "metadata": {},
     "output_type": "execute_result"
    }
   ],
   "source": [
    "drug_samp = drug_df.merge(sample_df, on=\"pert_iname\", how=\"inner\").reset_index(drop=True)\n",
    "\n",
    "# Move broad_id to first column\n",
    "col_order = drug_samp.columns.tolist()\n",
    "col_order.insert(0, col_order.pop(col_order.index(\"broad_id\")))\n",
    "drug_samp = drug_samp.loc[:, col_order].assign(\n",
    "    InChIKey14=drug_samp.InChIKey.apply(\n",
    "        lambda x: inchi.InchiToInchiKey(x) if (x.startswith(\"InChI\")) else x\n",
    "    ).apply(lambda x: str(x)[:14])\n",
    ")\n",
    "\n",
    "# Output to file\n",
    "output_file = \"../data/metadata/clue_io/repurposing_moa\"\n",
    "drug_samp.rename(columns={\"InChIKey\": \"Metadata_InChIKey\"}, inplace=True)\n",
    "# drug_samp.to_csv(f\"{output_file}.csv\", index=False)\n",
    "\n",
    "print(drug_samp.shape)\n",
    "drug_samp.head(2)"
   ]
  },
  {
   "cell_type": "markdown",
   "id": "39221f9d",
   "metadata": {},
   "source": [
    "## Clean the DR Hub Data:"
   ]
  },
  {
   "cell_type": "code",
   "execution_count": null,
   "id": "7aeb955e",
   "metadata": {},
   "outputs": [],
   "source": [
    "# Drop any rows where the compound key or the moa is Nan:\n",
    "drug_samp = drug_samp.dropna(subset=['Metadata_InChIKey', 'moa'])\n",
    "\n",
    "# Fill any Nan values in target column with 'Not listed'.:\n",
    "drug_samp[['target']] = drug_samp[['target']].fillna(value='Not listed')\n",
    "\n",
    "# Drop duplicates where Metadata_InChIKey and moa are the same (i.e. just a different vendor etc.)\n",
    "drug_samp = drug_samp.drop_duplicates(subset=['Metadata_InChIKey', 'moa'])\n",
    "\n",
    "# Subsetting the dataframe to only include inhibitors:\n",
    "dhub_inhibitors = drug_samp[drug_samp['moa'].str.contains(\"inhibitor\")].reset_index(drop=True)\n",
    "\n",
    "# Assigning moa source:\n",
    "dhub_inhibitors['moa_src'] = 'dr_hub'"
   ]
  },
  {
   "cell_type": "markdown",
   "id": "77a4a7d0",
   "metadata": {},
   "source": [
    "# Manual changes to long-form MOA IDs:\n",
    "Detailed below are the manual changes made to the above databases:\n",
    "\n",
    "- Replaced \"glycogen synthase kinase inhibitor\" with GSK inhibitor.\n",
    "- Replaced \"Aurora kinase inhibitor\" with AURK inhibitor.\n",
    "- Replaced \"rho associated kinase inhibitor\" with ROCK inhibitor.\n",
    "- Replaced \"ALK tyrosine kinase receptor inhibitor\" with ALK inhibitor.\n",
    "- Replaced \"Bruton's tyrosine kinase (BTK) inhibitor\" with BTK inhibitor.\n",
    "- Replaced \"PDGFR tyrosine kinase receptor inhibitor\" with PDGFR inhibitor.\n",
    "- Altered any numbered CDK inhibitors i.e., \"CDK9 inhibitor\" to just \"CDK inhibitor\".\n",
    "- Altered moas according to target column, i.e. EGFR|ERBB2 target = EGFR inhibitor|HER2 inhibitor\n",
    "- Separated any BCR-ABL inhibitors into BCR and ABL by targets."
   ]
  },
  {
   "cell_type": "markdown",
   "id": "373bc1b7",
   "metadata": {},
   "source": [
    "# Saving to Csv:"
   ]
  },
  {
   "cell_type": "code",
   "execution_count": null,
   "id": "131d57c4",
   "metadata": {},
   "outputs": [],
   "source": [
    "# Save to csv file:\n",
    "chembl_data.to_csv('../data/metadata/chembl/chembl_cleaned.csv', index=False)"
   ]
  },
  {
   "cell_type": "code",
   "execution_count": null,
   "id": "7a5f507e",
   "metadata": {},
   "outputs": [],
   "source": [
    "# Save to CSV file:\n",
    "dhub_inhibitors.to_csv(\"../data/metadata/clue_io/dhub_inhibitors.csv\", index=False)"
   ]
  }
 ],
 "metadata": {
  "kernelspec": {
   "display_name": "Python 3 (ipykernel)",
   "language": "python",
   "name": "python3"
  },
  "language_info": {
   "codemirror_mode": {
    "name": "ipython",
    "version": 3
   },
   "file_extension": ".py",
   "mimetype": "text/x-python",
   "name": "python",
   "nbconvert_exporter": "python",
   "pygments_lexer": "ipython3",
   "version": "3.10.9"
  },
  "toc": {
   "base_numbering": 1,
   "nav_menu": {},
   "number_sections": true,
   "sideBar": true,
   "skip_h1_title": false,
   "title_cell": "Table of Contents",
   "title_sidebar": "Contents",
   "toc_cell": false,
   "toc_position": {},
   "toc_section_display": true,
   "toc_window_display": false
  }
 },
 "nbformat": 4,
 "nbformat_minor": 5
}
