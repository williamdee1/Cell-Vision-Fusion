{
 "cells": [
  {
   "cell_type": "markdown",
   "id": "63fb52b1",
   "metadata": {},
   "source": [
    "**Notebook - Combining JUMP Metadata**\n",
    "\n",
    "This notebook loads the different JUMP-DP dataset metadata files and combines them to form one dataframe containing all metadata information."
   ]
  },
  {
   "cell_type": "markdown",
   "id": "d004b102",
   "metadata": {},
   "source": [
    "# Imports:"
   ]
  },
  {
   "cell_type": "code",
   "execution_count": 1,
   "id": "d8164f99",
   "metadata": {},
   "outputs": [],
   "source": [
    "import pandas as pd\n",
    "import numpy as np"
   ]
  },
  {
   "cell_type": "markdown",
   "id": "84b7960e",
   "metadata": {},
   "source": [
    "# Load Metadata:\n",
    "Files downloaded from: https://github.com/jump-cellpainting/datasets/tree/main/metadata"
   ]
  },
  {
   "cell_type": "markdown",
   "id": "876ba443",
   "metadata": {},
   "source": [
    "## Plates:"
   ]
  },
  {
   "cell_type": "code",
   "execution_count": 2,
   "id": "06f8c3f1",
   "metadata": {},
   "outputs": [
    {
     "name": "stdout",
     "output_type": "stream",
     "text": [
      "(2378, 4)\n"
     ]
    },
    {
     "data": {
      "text/html": [
       "<div>\n",
       "<style scoped>\n",
       "    .dataframe tbody tr th:only-of-type {\n",
       "        vertical-align: middle;\n",
       "    }\n",
       "\n",
       "    .dataframe tbody tr th {\n",
       "        vertical-align: top;\n",
       "    }\n",
       "\n",
       "    .dataframe thead th {\n",
       "        text-align: right;\n",
       "    }\n",
       "</style>\n",
       "<table border=\"1\" class=\"dataframe\">\n",
       "  <thead>\n",
       "    <tr style=\"text-align: right;\">\n",
       "      <th></th>\n",
       "      <th>Metadata_Source</th>\n",
       "      <th>Metadata_Batch</th>\n",
       "      <th>Metadata_Plate</th>\n",
       "      <th>Metadata_PlateType</th>\n",
       "    </tr>\n",
       "  </thead>\n",
       "  <tbody>\n",
       "    <tr>\n",
       "      <th>0</th>\n",
       "      <td>source_1</td>\n",
       "      <td>Batch1_20221004</td>\n",
       "      <td>UL000109</td>\n",
       "      <td>COMPOUND_EMPTY</td>\n",
       "    </tr>\n",
       "    <tr>\n",
       "      <th>1</th>\n",
       "      <td>source_1</td>\n",
       "      <td>Batch1_20221004</td>\n",
       "      <td>UL001641</td>\n",
       "      <td>COMPOUND</td>\n",
       "    </tr>\n",
       "  </tbody>\n",
       "</table>\n",
       "</div>"
      ],
      "text/plain": [
       "  Metadata_Source   Metadata_Batch Metadata_Plate Metadata_PlateType\n",
       "0        source_1  Batch1_20221004       UL000109     COMPOUND_EMPTY\n",
       "1        source_1  Batch1_20221004       UL001641           COMPOUND"
      ]
     },
     "execution_count": 2,
     "metadata": {},
     "output_type": "execute_result"
    }
   ],
   "source": [
    "plates = pd.read_csv('../data/metadata/plate.csv.gz')\n",
    "print(plates.shape)\n",
    "plates.head(2)"
   ]
  },
  {
   "cell_type": "markdown",
   "id": "ee071fa2",
   "metadata": {},
   "source": [
    "## Wells:"
   ]
  },
  {
   "cell_type": "code",
   "execution_count": 4,
   "id": "a73e66f5",
   "metadata": {},
   "outputs": [
    {
     "name": "stdout",
     "output_type": "stream",
     "text": [
      "(1096074, 4)\n"
     ]
    },
    {
     "data": {
      "text/html": [
       "<div>\n",
       "<style scoped>\n",
       "    .dataframe tbody tr th:only-of-type {\n",
       "        vertical-align: middle;\n",
       "    }\n",
       "\n",
       "    .dataframe tbody tr th {\n",
       "        vertical-align: top;\n",
       "    }\n",
       "\n",
       "    .dataframe thead th {\n",
       "        text-align: right;\n",
       "    }\n",
       "</style>\n",
       "<table border=\"1\" class=\"dataframe\">\n",
       "  <thead>\n",
       "    <tr style=\"text-align: right;\">\n",
       "      <th></th>\n",
       "      <th>Metadata_Source</th>\n",
       "      <th>Metadata_Plate</th>\n",
       "      <th>Metadata_Well</th>\n",
       "      <th>Metadata_JCP2022</th>\n",
       "    </tr>\n",
       "  </thead>\n",
       "  <tbody>\n",
       "    <tr>\n",
       "      <th>0</th>\n",
       "      <td>source_1</td>\n",
       "      <td>UL000081</td>\n",
       "      <td>A02</td>\n",
       "      <td>JCP2022_033924</td>\n",
       "    </tr>\n",
       "    <tr>\n",
       "      <th>1</th>\n",
       "      <td>source_1</td>\n",
       "      <td>UL000081</td>\n",
       "      <td>A03</td>\n",
       "      <td>JCP2022_085227</td>\n",
       "    </tr>\n",
       "  </tbody>\n",
       "</table>\n",
       "</div>"
      ],
      "text/plain": [
       "  Metadata_Source Metadata_Plate Metadata_Well Metadata_JCP2022\n",
       "0        source_1       UL000081           A02   JCP2022_033924\n",
       "1        source_1       UL000081           A03   JCP2022_085227"
      ]
     },
     "execution_count": 4,
     "metadata": {},
     "output_type": "execute_result"
    }
   ],
   "source": [
    "wells = pd.read_csv('../data/metadata/well.csv.gz')\n",
    "wells = wells.applymap(str)\n",
    "print(wells.shape)\n",
    "wells.head(2)"
   ]
  },
  {
   "cell_type": "markdown",
   "id": "bc58375b",
   "metadata": {},
   "source": [
    "## Compounds:"
   ]
  },
  {
   "cell_type": "code",
   "execution_count": 7,
   "id": "723db2da",
   "metadata": {},
   "outputs": [
    {
     "name": "stdout",
     "output_type": "stream",
     "text": [
      "(116753, 3)\n"
     ]
    },
    {
     "data": {
      "text/html": [
       "<div>\n",
       "<style scoped>\n",
       "    .dataframe tbody tr th:only-of-type {\n",
       "        vertical-align: middle;\n",
       "    }\n",
       "\n",
       "    .dataframe tbody tr th {\n",
       "        vertical-align: top;\n",
       "    }\n",
       "\n",
       "    .dataframe thead th {\n",
       "        text-align: right;\n",
       "    }\n",
       "</style>\n",
       "<table border=\"1\" class=\"dataframe\">\n",
       "  <thead>\n",
       "    <tr style=\"text-align: right;\">\n",
       "      <th></th>\n",
       "      <th>Metadata_JCP2022</th>\n",
       "      <th>Metadata_InChIKey</th>\n",
       "      <th>Metadata_InChI</th>\n",
       "    </tr>\n",
       "  </thead>\n",
       "  <tbody>\n",
       "    <tr>\n",
       "      <th>0</th>\n",
       "      <td>JCP2022_000001</td>\n",
       "      <td>AAAHWCWPZPSPIW-UHFFFAOYSA-N</td>\n",
       "      <td>InChI=1S/C25H31N5O2/c1-4-23-26-14-16-30(23)24-...</td>\n",
       "    </tr>\n",
       "    <tr>\n",
       "      <th>1</th>\n",
       "      <td>JCP2022_000002</td>\n",
       "      <td>AAAJHRMBUHXWLD-UHFFFAOYSA-N</td>\n",
       "      <td>InChI=1S/C11H13ClN2O/c12-10-4-2-9(3-5-10)8-14-...</td>\n",
       "    </tr>\n",
       "  </tbody>\n",
       "</table>\n",
       "</div>"
      ],
      "text/plain": [
       "  Metadata_JCP2022            Metadata_InChIKey  \\\n",
       "0   JCP2022_000001  AAAHWCWPZPSPIW-UHFFFAOYSA-N   \n",
       "1   JCP2022_000002  AAAJHRMBUHXWLD-UHFFFAOYSA-N   \n",
       "\n",
       "                                      Metadata_InChI  \n",
       "0  InChI=1S/C25H31N5O2/c1-4-23-26-14-16-30(23)24-...  \n",
       "1  InChI=1S/C11H13ClN2O/c12-10-4-2-9(3-5-10)8-14-...  "
      ]
     },
     "execution_count": 7,
     "metadata": {},
     "output_type": "execute_result"
    }
   ],
   "source": [
    "compound = pd.read_csv('../data/metadata/compound.csv.gz')\n",
    "print(compound.shape)\n",
    "compound.head(2)"
   ]
  },
  {
   "cell_type": "markdown",
   "id": "3838e3af",
   "metadata": {},
   "source": [
    "- 'JCP2022_999999' are untreated wells (these wells contain only cells) - see comment at https://github.com/jump-cellpainting/datasets/issues/49.\n",
    "\n",
    "- This is altered below to change the n/a value for this row to 'NON_COMPOUND' instead so when the dataframes are merged there are no null values."
   ]
  },
  {
   "cell_type": "code",
   "execution_count": 8,
   "id": "8ae8b424",
   "metadata": {},
   "outputs": [],
   "source": [
    "compound.loc[compound.Metadata_InChIKey.isnull(), ['Metadata_InChIKey', 'Metadata_InChI']] = 'NON_COMPOUND'"
   ]
  },
  {
   "cell_type": "code",
   "execution_count": 9,
   "id": "db7bbe63",
   "metadata": {},
   "outputs": [
    {
     "data": {
      "text/html": [
       "<div>\n",
       "<style scoped>\n",
       "    .dataframe tbody tr th:only-of-type {\n",
       "        vertical-align: middle;\n",
       "    }\n",
       "\n",
       "    .dataframe tbody tr th {\n",
       "        vertical-align: top;\n",
       "    }\n",
       "\n",
       "    .dataframe thead th {\n",
       "        text-align: right;\n",
       "    }\n",
       "</style>\n",
       "<table border=\"1\" class=\"dataframe\">\n",
       "  <thead>\n",
       "    <tr style=\"text-align: right;\">\n",
       "      <th></th>\n",
       "      <th>Metadata_JCP2022</th>\n",
       "      <th>Metadata_InChIKey</th>\n",
       "      <th>Metadata_InChI</th>\n",
       "    </tr>\n",
       "  </thead>\n",
       "  <tbody>\n",
       "    <tr>\n",
       "      <th>116752</th>\n",
       "      <td>JCP2022_999999</td>\n",
       "      <td>NON_COMPOUND</td>\n",
       "      <td>NON_COMPOUND</td>\n",
       "    </tr>\n",
       "  </tbody>\n",
       "</table>\n",
       "</div>"
      ],
      "text/plain": [
       "       Metadata_JCP2022 Metadata_InChIKey Metadata_InChI\n",
       "116752   JCP2022_999999      NON_COMPOUND   NON_COMPOUND"
      ]
     },
     "execution_count": 9,
     "metadata": {},
     "output_type": "execute_result"
    }
   ],
   "source": [
    "# Check that the above code ran successfully:\n",
    "compound.loc[compound['Metadata_JCP2022'] == 'JCP2022_999999']"
   ]
  },
  {
   "cell_type": "markdown",
   "id": "d71f19fe",
   "metadata": {},
   "source": [
    "# Combining Metadata:"
   ]
  },
  {
   "cell_type": "markdown",
   "id": "4bec2bba",
   "metadata": {},
   "source": [
    "## Merging compound with well data:"
   ]
  },
  {
   "cell_type": "code",
   "execution_count": 13,
   "id": "bdc6e5f0",
   "metadata": {},
   "outputs": [
    {
     "name": "stdout",
     "output_type": "stream",
     "text": [
      "(945604, 6)\n"
     ]
    },
    {
     "data": {
      "text/html": [
       "<div>\n",
       "<style scoped>\n",
       "    .dataframe tbody tr th:only-of-type {\n",
       "        vertical-align: middle;\n",
       "    }\n",
       "\n",
       "    .dataframe tbody tr th {\n",
       "        vertical-align: top;\n",
       "    }\n",
       "\n",
       "    .dataframe thead th {\n",
       "        text-align: right;\n",
       "    }\n",
       "</style>\n",
       "<table border=\"1\" class=\"dataframe\">\n",
       "  <thead>\n",
       "    <tr style=\"text-align: right;\">\n",
       "      <th></th>\n",
       "      <th>Metadata_JCP2022</th>\n",
       "      <th>Metadata_InChIKey</th>\n",
       "      <th>Metadata_InChI</th>\n",
       "      <th>Metadata_Source</th>\n",
       "      <th>Metadata_Plate</th>\n",
       "      <th>Metadata_Well</th>\n",
       "    </tr>\n",
       "  </thead>\n",
       "  <tbody>\n",
       "    <tr>\n",
       "      <th>0</th>\n",
       "      <td>JCP2022_000001</td>\n",
       "      <td>AAAHWCWPZPSPIW-UHFFFAOYSA-N</td>\n",
       "      <td>InChI=1S/C25H31N5O2/c1-4-23-26-14-16-30(23)24-...</td>\n",
       "      <td>source_1</td>\n",
       "      <td>UL001783</td>\n",
       "      <td>C29</td>\n",
       "    </tr>\n",
       "    <tr>\n",
       "      <th>1</th>\n",
       "      <td>JCP2022_000001</td>\n",
       "      <td>AAAHWCWPZPSPIW-UHFFFAOYSA-N</td>\n",
       "      <td>InChI=1S/C25H31N5O2/c1-4-23-26-14-16-30(23)24-...</td>\n",
       "      <td>source_10</td>\n",
       "      <td>Dest210622-144945</td>\n",
       "      <td>C07</td>\n",
       "    </tr>\n",
       "    <tr>\n",
       "      <th>2</th>\n",
       "      <td>JCP2022_000001</td>\n",
       "      <td>AAAHWCWPZPSPIW-UHFFFAOYSA-N</td>\n",
       "      <td>InChI=1S/C25H31N5O2/c1-4-23-26-14-16-30(23)24-...</td>\n",
       "      <td>source_3</td>\n",
       "      <td>B40803aW</td>\n",
       "      <td>B15</td>\n",
       "    </tr>\n",
       "    <tr>\n",
       "      <th>3</th>\n",
       "      <td>JCP2022_000001</td>\n",
       "      <td>AAAHWCWPZPSPIW-UHFFFAOYSA-N</td>\n",
       "      <td>InChI=1S/C25H31N5O2/c1-4-23-26-14-16-30(23)24-...</td>\n",
       "      <td>source_6</td>\n",
       "      <td>110000296383</td>\n",
       "      <td>B15</td>\n",
       "    </tr>\n",
       "    <tr>\n",
       "      <th>4</th>\n",
       "      <td>JCP2022_000002</td>\n",
       "      <td>AAAJHRMBUHXWLD-UHFFFAOYSA-N</td>\n",
       "      <td>InChI=1S/C11H13ClN2O/c12-10-4-2-9(3-5-10)8-14-...</td>\n",
       "      <td>source_1</td>\n",
       "      <td>UL000087</td>\n",
       "      <td>D43</td>\n",
       "    </tr>\n",
       "  </tbody>\n",
       "</table>\n",
       "</div>"
      ],
      "text/plain": [
       "  Metadata_JCP2022            Metadata_InChIKey  \\\n",
       "0   JCP2022_000001  AAAHWCWPZPSPIW-UHFFFAOYSA-N   \n",
       "1   JCP2022_000001  AAAHWCWPZPSPIW-UHFFFAOYSA-N   \n",
       "2   JCP2022_000001  AAAHWCWPZPSPIW-UHFFFAOYSA-N   \n",
       "3   JCP2022_000001  AAAHWCWPZPSPIW-UHFFFAOYSA-N   \n",
       "4   JCP2022_000002  AAAJHRMBUHXWLD-UHFFFAOYSA-N   \n",
       "\n",
       "                                      Metadata_InChI Metadata_Source  \\\n",
       "0  InChI=1S/C25H31N5O2/c1-4-23-26-14-16-30(23)24-...        source_1   \n",
       "1  InChI=1S/C25H31N5O2/c1-4-23-26-14-16-30(23)24-...       source_10   \n",
       "2  InChI=1S/C25H31N5O2/c1-4-23-26-14-16-30(23)24-...        source_3   \n",
       "3  InChI=1S/C25H31N5O2/c1-4-23-26-14-16-30(23)24-...        source_6   \n",
       "4  InChI=1S/C11H13ClN2O/c12-10-4-2-9(3-5-10)8-14-...        source_1   \n",
       "\n",
       "      Metadata_Plate Metadata_Well  \n",
       "0           UL001783           C29  \n",
       "1  Dest210622-144945           C07  \n",
       "2           B40803aW           B15  \n",
       "3       110000296383           B15  \n",
       "4           UL000087           D43  "
      ]
     },
     "execution_count": 13,
     "metadata": {},
     "output_type": "execute_result"
    }
   ],
   "source": [
    "c_well = pd.merge(compound, wells, on='Metadata_JCP2022', how='inner')\n",
    "print(c_well.shape)\n",
    "c_well.head()"
   ]
  },
  {
   "cell_type": "markdown",
   "id": "897891b5",
   "metadata": {},
   "source": [
    "- Non compound datapoints are retained, but flagged as they are without ChlKeys:"
   ]
  },
  {
   "cell_type": "code",
   "execution_count": 14,
   "id": "1d0089bd",
   "metadata": {},
   "outputs": [
    {
     "data": {
      "text/html": [
       "<div>\n",
       "<style scoped>\n",
       "    .dataframe tbody tr th:only-of-type {\n",
       "        vertical-align: middle;\n",
       "    }\n",
       "\n",
       "    .dataframe tbody tr th {\n",
       "        vertical-align: top;\n",
       "    }\n",
       "\n",
       "    .dataframe thead th {\n",
       "        text-align: right;\n",
       "    }\n",
       "</style>\n",
       "<table border=\"1\" class=\"dataframe\">\n",
       "  <thead>\n",
       "    <tr style=\"text-align: right;\">\n",
       "      <th></th>\n",
       "      <th>Metadata_JCP2022</th>\n",
       "      <th>Metadata_InChIKey</th>\n",
       "      <th>Metadata_InChI</th>\n",
       "      <th>Metadata_Source</th>\n",
       "      <th>Metadata_Plate</th>\n",
       "      <th>Metadata_Well</th>\n",
       "    </tr>\n",
       "  </thead>\n",
       "  <tbody>\n",
       "    <tr>\n",
       "      <th>908510</th>\n",
       "      <td>JCP2022_999999</td>\n",
       "      <td>NON_COMPOUND</td>\n",
       "      <td>NON_COMPOUND</td>\n",
       "      <td>source_10</td>\n",
       "      <td>Dest210531-152149</td>\n",
       "      <td>A05</td>\n",
       "    </tr>\n",
       "    <tr>\n",
       "      <th>908511</th>\n",
       "      <td>JCP2022_999999</td>\n",
       "      <td>NON_COMPOUND</td>\n",
       "      <td>NON_COMPOUND</td>\n",
       "      <td>source_10</td>\n",
       "      <td>Dest210531-152149</td>\n",
       "      <td>A09</td>\n",
       "    </tr>\n",
       "  </tbody>\n",
       "</table>\n",
       "</div>"
      ],
      "text/plain": [
       "       Metadata_JCP2022 Metadata_InChIKey Metadata_InChI Metadata_Source  \\\n",
       "908510   JCP2022_999999      NON_COMPOUND   NON_COMPOUND       source_10   \n",
       "908511   JCP2022_999999      NON_COMPOUND   NON_COMPOUND       source_10   \n",
       "\n",
       "           Metadata_Plate Metadata_Well  \n",
       "908510  Dest210531-152149           A05  \n",
       "908511  Dest210531-152149           A09  "
      ]
     },
     "execution_count": 14,
     "metadata": {},
     "output_type": "execute_result"
    }
   ],
   "source": [
    "c_well[c_well['Metadata_JCP2022'] == 'JCP2022_999999'][0:2]"
   ]
  },
  {
   "cell_type": "markdown",
   "id": "63a8666d",
   "metadata": {},
   "source": [
    "- Check for null values:"
   ]
  },
  {
   "cell_type": "code",
   "execution_count": 16,
   "id": "1e476310",
   "metadata": {},
   "outputs": [
    {
     "data": {
      "text/html": [
       "<div>\n",
       "<style scoped>\n",
       "    .dataframe tbody tr th:only-of-type {\n",
       "        vertical-align: middle;\n",
       "    }\n",
       "\n",
       "    .dataframe tbody tr th {\n",
       "        vertical-align: top;\n",
       "    }\n",
       "\n",
       "    .dataframe thead th {\n",
       "        text-align: right;\n",
       "    }\n",
       "</style>\n",
       "<table border=\"1\" class=\"dataframe\">\n",
       "  <thead>\n",
       "    <tr style=\"text-align: right;\">\n",
       "      <th></th>\n",
       "      <th>Metadata_JCP2022</th>\n",
       "      <th>Metadata_InChIKey</th>\n",
       "      <th>Metadata_InChI</th>\n",
       "      <th>Metadata_Source</th>\n",
       "      <th>Metadata_Plate</th>\n",
       "      <th>Metadata_Well</th>\n",
       "    </tr>\n",
       "  </thead>\n",
       "  <tbody>\n",
       "  </tbody>\n",
       "</table>\n",
       "</div>"
      ],
      "text/plain": [
       "Empty DataFrame\n",
       "Columns: [Metadata_JCP2022, Metadata_InChIKey, Metadata_InChI, Metadata_Source, Metadata_Plate, Metadata_Well]\n",
       "Index: []"
      ]
     },
     "execution_count": 16,
     "metadata": {},
     "output_type": "execute_result"
    }
   ],
   "source": [
    "c_well[c_well.Metadata_Plate.isnull()]"
   ]
  },
  {
   "cell_type": "markdown",
   "id": "d6982273",
   "metadata": {},
   "source": [
    "## Merging compound + well data with plates data:"
   ]
  },
  {
   "cell_type": "code",
   "execution_count": 17,
   "id": "825cd31a",
   "metadata": {},
   "outputs": [
    {
     "name": "stdout",
     "output_type": "stream",
     "text": [
      "(945604, 8)\n"
     ]
    },
    {
     "data": {
      "text/html": [
       "<div>\n",
       "<style scoped>\n",
       "    .dataframe tbody tr th:only-of-type {\n",
       "        vertical-align: middle;\n",
       "    }\n",
       "\n",
       "    .dataframe tbody tr th {\n",
       "        vertical-align: top;\n",
       "    }\n",
       "\n",
       "    .dataframe thead th {\n",
       "        text-align: right;\n",
       "    }\n",
       "</style>\n",
       "<table border=\"1\" class=\"dataframe\">\n",
       "  <thead>\n",
       "    <tr style=\"text-align: right;\">\n",
       "      <th></th>\n",
       "      <th>Metadata_JCP2022</th>\n",
       "      <th>Metadata_InChIKey</th>\n",
       "      <th>Metadata_InChI</th>\n",
       "      <th>Metadata_Source</th>\n",
       "      <th>Metadata_Plate</th>\n",
       "      <th>Metadata_Well</th>\n",
       "      <th>Metadata_Batch</th>\n",
       "      <th>Metadata_PlateType</th>\n",
       "    </tr>\n",
       "  </thead>\n",
       "  <tbody>\n",
       "    <tr>\n",
       "      <th>0</th>\n",
       "      <td>JCP2022_000001</td>\n",
       "      <td>AAAHWCWPZPSPIW-UHFFFAOYSA-N</td>\n",
       "      <td>InChI=1S/C25H31N5O2/c1-4-23-26-14-16-30(23)24-...</td>\n",
       "      <td>source_1</td>\n",
       "      <td>UL001783</td>\n",
       "      <td>C29</td>\n",
       "      <td>Batch5_20221030</td>\n",
       "      <td>COMPOUND</td>\n",
       "    </tr>\n",
       "    <tr>\n",
       "      <th>1</th>\n",
       "      <td>JCP2022_000013</td>\n",
       "      <td>AABSTWCOLWSFRA-UHFFFAOYSA-N</td>\n",
       "      <td>InChI=1S/C17H19N5O2S/c1-11-20-14(16-22(11)7-8-...</td>\n",
       "      <td>source_1</td>\n",
       "      <td>UL001783</td>\n",
       "      <td>O05</td>\n",
       "      <td>Batch5_20221030</td>\n",
       "      <td>COMPOUND</td>\n",
       "    </tr>\n",
       "    <tr>\n",
       "      <th>2</th>\n",
       "      <td>JCP2022_000026</td>\n",
       "      <td>AACNNMAJYLOGIN-UHFFFAOYSA-N</td>\n",
       "      <td>InChI=1S/C11H17BrN2O/c1-8(2)11(3,15)7-14-10-4-...</td>\n",
       "      <td>source_1</td>\n",
       "      <td>UL001783</td>\n",
       "      <td>Z11</td>\n",
       "      <td>Batch5_20221030</td>\n",
       "      <td>COMPOUND</td>\n",
       "    </tr>\n",
       "    <tr>\n",
       "      <th>3</th>\n",
       "      <td>JCP2022_000209</td>\n",
       "      <td>ABAOQGNJQBALMY-UHFFFAOYSA-N</td>\n",
       "      <td>InChI=1S/C10H9NO4/c11-8(12)7-3-6-4-1-2-5(6)10(...</td>\n",
       "      <td>source_1</td>\n",
       "      <td>UL001783</td>\n",
       "      <td>H28</td>\n",
       "      <td>Batch5_20221030</td>\n",
       "      <td>COMPOUND</td>\n",
       "    </tr>\n",
       "    <tr>\n",
       "      <th>4</th>\n",
       "      <td>JCP2022_000273</td>\n",
       "      <td>ABJRPGSJRJOLST-UHFFFAOYSA-N</td>\n",
       "      <td>InChI=1S/C15H19F2N5/c16-13(17)14-19-18-11-4-5-...</td>\n",
       "      <td>source_1</td>\n",
       "      <td>UL001783</td>\n",
       "      <td>O41</td>\n",
       "      <td>Batch5_20221030</td>\n",
       "      <td>COMPOUND</td>\n",
       "    </tr>\n",
       "  </tbody>\n",
       "</table>\n",
       "</div>"
      ],
      "text/plain": [
       "  Metadata_JCP2022            Metadata_InChIKey  \\\n",
       "0   JCP2022_000001  AAAHWCWPZPSPIW-UHFFFAOYSA-N   \n",
       "1   JCP2022_000013  AABSTWCOLWSFRA-UHFFFAOYSA-N   \n",
       "2   JCP2022_000026  AACNNMAJYLOGIN-UHFFFAOYSA-N   \n",
       "3   JCP2022_000209  ABAOQGNJQBALMY-UHFFFAOYSA-N   \n",
       "4   JCP2022_000273  ABJRPGSJRJOLST-UHFFFAOYSA-N   \n",
       "\n",
       "                                      Metadata_InChI Metadata_Source  \\\n",
       "0  InChI=1S/C25H31N5O2/c1-4-23-26-14-16-30(23)24-...        source_1   \n",
       "1  InChI=1S/C17H19N5O2S/c1-11-20-14(16-22(11)7-8-...        source_1   \n",
       "2  InChI=1S/C11H17BrN2O/c1-8(2)11(3,15)7-14-10-4-...        source_1   \n",
       "3  InChI=1S/C10H9NO4/c11-8(12)7-3-6-4-1-2-5(6)10(...        source_1   \n",
       "4  InChI=1S/C15H19F2N5/c16-13(17)14-19-18-11-4-5-...        source_1   \n",
       "\n",
       "  Metadata_Plate Metadata_Well   Metadata_Batch Metadata_PlateType  \n",
       "0       UL001783           C29  Batch5_20221030           COMPOUND  \n",
       "1       UL001783           O05  Batch5_20221030           COMPOUND  \n",
       "2       UL001783           Z11  Batch5_20221030           COMPOUND  \n",
       "3       UL001783           H28  Batch5_20221030           COMPOUND  \n",
       "4       UL001783           O41  Batch5_20221030           COMPOUND  "
      ]
     },
     "execution_count": 17,
     "metadata": {},
     "output_type": "execute_result"
    }
   ],
   "source": [
    "cwp_data = pd.merge(c_well, plates, on=['Metadata_Source', 'Metadata_Plate'] , how='inner')\n",
    "print(cwp_data.shape)\n",
    "cwp_data.head()"
   ]
  },
  {
   "cell_type": "markdown",
   "id": "30506ecf",
   "metadata": {},
   "source": [
    "- Plate count check - for a specific batch, check the number of associated plates:"
   ]
  },
  {
   "cell_type": "code",
   "execution_count": 18,
   "id": "4636f576",
   "metadata": {},
   "outputs": [
    {
     "data": {
      "text/plain": [
       "SP20P23d    384\n",
       "SP20P23c    384\n",
       "DMSOC26     384\n",
       "DMSOC25     384\n",
       "SP05P08c    384\n",
       "Name: Metadata_Plate, dtype: int64"
      ]
     },
     "execution_count": 18,
     "metadata": {},
     "output_type": "execute_result"
    }
   ],
   "source": [
    "cwp_data.loc[cwp_data['Metadata_Batch'] == 'CP_28_all_Phenix1'].Metadata_Plate.value_counts()[0:5]"
   ]
  },
  {
   "cell_type": "markdown",
   "id": "8cdb8758",
   "metadata": {},
   "source": [
    "# Save Data:"
   ]
  },
  {
   "cell_type": "code",
   "execution_count": 19,
   "id": "bfc38331",
   "metadata": {},
   "outputs": [],
   "source": [
    "cwp_data.to_csv('../data/cwp_data.csv', index=False)"
   ]
  }
 ],
 "metadata": {
  "kernelspec": {
   "display_name": "Python 3 (ipykernel)",
   "language": "python",
   "name": "python3"
  },
  "language_info": {
   "codemirror_mode": {
    "name": "ipython",
    "version": 3
   },
   "file_extension": ".py",
   "mimetype": "text/x-python",
   "name": "python",
   "nbconvert_exporter": "python",
   "pygments_lexer": "ipython3",
   "version": "3.10.9"
  },
  "toc": {
   "base_numbering": 1,
   "nav_menu": {},
   "number_sections": true,
   "sideBar": true,
   "skip_h1_title": false,
   "title_cell": "Table of Contents",
   "title_sidebar": "Contents",
   "toc_cell": false,
   "toc_position": {},
   "toc_section_display": true,
   "toc_window_display": true
  }
 },
 "nbformat": 4,
 "nbformat_minor": 5
}
